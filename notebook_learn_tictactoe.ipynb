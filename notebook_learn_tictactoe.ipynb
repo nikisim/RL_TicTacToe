{
 "cells": [
  {
   "cell_type": "markdown",
   "metadata": {},
   "source": [
    "## RL agent Q-learning for TicTacToe env\n",
    "\n",
    "The [Tic-Tac-Toe](https://github.com/MauroLuzzatto/OpenAI-Gym-TicTacToe-Environment) is a simple game environment that allows to train reinforcement learning agents. These notebook contains an implemetation of Q-learning with epsilon-greedy strategy for TicTacToe env."
   ]
  },
  {
   "cell_type": "code",
   "execution_count": 79,
   "metadata": {},
   "outputs": [],
   "source": [
    "# load the python modules\n",
    "import time\n",
    "import sys\n",
    "import warnings\n",
    "\n",
    "import gym\n",
    "import numpy as np\n",
    "from tqdm import tqdm\n",
    "import gym_TicTacToe\n",
    "\n",
    "from src.qagent import QLearningAgent\n",
    "from src.play_tictactoe import play_tictactoe, play_tictactoe_with_random\n",
    "\n",
    "from src.utils import (\n",
    "    create_state_dictionary,\n",
    "    reshape_state,\n",
    "    save_qtable,\n",
    "    load_qtable\n",
    ")\n",
    "\n",
    "# ignore warnings\n",
    "if not sys.warnoptions:\n",
    "    warnings.simplefilter(\"ignore\")"
   ]
  },
  {
   "cell_type": "code",
   "execution_count": 80,
   "metadata": {},
   "outputs": [],
   "source": [
    "class Player:\n",
    "    def __init__(self, color, episodes: int):\n",
    "        self.color = color\n",
    "        self.reward_array = np.zeros(episodes)\n",
    "        self.reset_reward()\n",
    "        self.name = f\"Player {color}\"\n",
    "\n",
    "    def reset_reward(self):\n",
    "        self.reward = 0"
   ]
  },
  {
   "cell_type": "code",
   "execution_count": 81,
   "metadata": {},
   "outputs": [],
   "source": [
    "\n",
    "# initialize the tictactoe environment\n",
    "env = gym.envs.make(\"TTT-v0\", small=-1, large=10)"
   ]
  },
  {
   "cell_type": "code",
   "execution_count": 82,
   "metadata": {},
   "outputs": [
    {
     "name": "stdout",
     "output_type": "stream",
     "text": [
      "Number of legal states: 12092\n"
     ]
    }
   ],
   "source": [
    "state_dict = create_state_dictionary()\n",
    "state_size = len(state_dict.keys())\n",
    "action_size = env.action_space.n"
   ]
  },
  {
   "cell_type": "code",
   "execution_count": 83,
   "metadata": {},
   "outputs": [],
   "source": [
    "# set training parameters\n",
    "episodes = 960_000\n",
    "max_steps = 9"
   ]
  },
  {
   "cell_type": "code",
   "execution_count": 84,
   "metadata": {},
   "outputs": [],
   "source": [
    "exploration_parameters = {\n",
    "    \"max_epsilon\": 1.0,\n",
    "    \"min_epsilon\": 0.0,\n",
    "    \"decay_rate\": 0.00001,\n",
    "}"
   ]
  },
  {
   "cell_type": "code",
   "execution_count": 85,
   "metadata": {},
   "outputs": [],
   "source": [
    "qagent = QLearningAgent(exploration_parameters, state_size, action_size, learning_rate=0.1, gamma=0.99)"
   ]
  },
  {
   "cell_type": "code",
   "execution_count": 86,
   "metadata": {},
   "outputs": [],
   "source": [
    "def check_for_potential_lose(state, color: int) -> bool:\n",
    "        \"\"\"check if after agent's move there is a lose position\n",
    "\n",
    "        Args:\n",
    "            color (int): of the player's enemy\n",
    "\n",
    "        Returns:\n",
    "            bool: indicating if this was a crucial move\n",
    "        \"\"\"\n",
    "        state_check = np.copy(state)\n",
    "        lose = False\n",
    "        col = np.array([1,2])\n",
    "        #enemy color\n",
    "        enemy_color = color\n",
    "        player_color = col[col != enemy_color][0]\n",
    "        state_check[state_check == player_color] = -1\n",
    "        state_check[state_check == enemy_color] = 1\n",
    "        state_check = state_check.reshape(3,3)\n",
    "        for ii in range(3):\n",
    "            if (\n",
    "                # check columns\n",
    "                np.sum(state_check[:, ii]) == 2\n",
    "                # check rows\n",
    "                or np.sum(state_check[ii, :]) == 2\n",
    "                # check diagonal\n",
    "                or np.sum([state_check[0, 0], state_check[1, 1], state_check[2, 2]])\n",
    "                == 2\n",
    "                or np.sum([state_check[0, 2], state_check[1, 1], state_check[2, 0]])\n",
    "                == 2\n",
    "            ):\n",
    "                lose = True\n",
    "                break\n",
    "        return lose"
   ]
  },
  {
   "cell_type": "code",
   "execution_count": 87,
   "metadata": {},
   "outputs": [
    {
     "data": {
      "text/plain": [
       "True"
      ]
     },
     "execution_count": 87,
     "metadata": {},
     "output_type": "execute_result"
    }
   ],
   "source": [
    "state = np.array([0,1,2,\n",
    "                  0,1,2,\n",
    "                  2,0,1])\n",
    "\n",
    "check_for_potential_lose(state, color=1)"
   ]
  },
  {
   "cell_type": "code",
   "execution_count": 88,
   "metadata": {},
   "outputs": [],
   "source": [
    "reverse_dict = {value: key for key, value in state_dict.items()}"
   ]
  },
  {
   "cell_type": "code",
   "execution_count": 89,
   "metadata": {},
   "outputs": [],
   "source": [
    "def play(qagent:QLearningAgent, player_color, state: int, action_space: np.array, last_turn: bool) -> tuple:\n",
    "    action = qagent.get_action(state, action_space)\n",
    "\n",
    "    # remove action from the action space\n",
    "\n",
    "    pure_state = np.array(reverse_dict[state][:-1])\n",
    "    action_space = action_space[action_space != action]\n",
    "    pot_lose = False\n",
    "    col = np.array([1,2])\n",
    "    if check_for_potential_lose(pure_state, col[col != player_color][0]):\n",
    "        pot_lose = True\n",
    "\n",
    "    new_state, reward, done, _ = env.step((action, player_color))\n",
    "\n",
    "    \n",
    "    # check for block opponent's win\n",
    "    if (done == False):\n",
    "        if not check_for_potential_lose(new_state, col[col != player_color][0]) and pot_lose == True:\n",
    "            reward += 3\n",
    "\n",
    "    # if (last_turn == True) and (done == False):\n",
    "    #     reward += 2     # Reward for draw\n",
    "\n",
    "    # elif (last_turn == True) and (done == True):\n",
    "    #     reward += 10\n",
    "        # print(f\"New_state:{new_state}, Reward:{reward}, Done:{done}\")\n",
    "    #TODO: maybe should change a marker after this agent turn \n",
    "    new_state = np.append(new_state, player_color)\n",
    "    new_state = state_dict[reshape_state(new_state)] \n",
    "\n",
    "    qagent.qtable[state, action] = qagent.update_qtable(\n",
    "        state, new_state, action, reward, done\n",
    "    )\n",
    "    # new state\n",
    "    state = new_state\n",
    "    return state, action_space, done"
   ]
  },
  {
   "cell_type": "code",
   "execution_count": 90,
   "metadata": {},
   "outputs": [],
   "source": [
    "def play_random(qagent:QLearningAgent, player_color, state: int, action_space: np.array) -> tuple:\n",
    "    action = np.random.choice(action_space)\n",
    "    action_space = action_space[action_space != action]\n",
    "    new_state, reward, done, _ = env.step((action, player_color))\n",
    "    new_state = np.append(new_state, player_color)\n",
    "    new_state = state_dict[reshape_state(new_state)]\n",
    "    state = new_state\n",
    "    return state, action_space, done"
   ]
  },
  {
   "cell_type": "code",
   "execution_count": 91,
   "metadata": {},
   "outputs": [],
   "source": [
    "visited_states = np.zeros((state_size, 1))"
   ]
  },
  {
   "cell_type": "code",
   "execution_count": 92,
   "metadata": {},
   "outputs": [],
   "source": [
    "lear_rate = 0.8\n",
    "gamma = 0.9\n",
    "qagent = QLearningAgent(exploration_parameters, state_size, action_size, learning_rate=lear_rate, gamma=gamma)"
   ]
  },
  {
   "cell_type": "code",
   "execution_count": 94,
   "metadata": {},
   "outputs": [
    {
     "name": "stderr",
     "output_type": "stream",
     "text": [
      "  0%|          | 0/960000 [00:00<?, ?it/s]"
     ]
    },
    {
     "name": "stderr",
     "output_type": "stream",
     "text": [
      "  0%|          | 61/960000 [00:00<47:47, 334.75it/s]  "
     ]
    },
    {
     "name": "stdout",
     "output_type": "stream",
     "text": [
      "WinRate: 0.84\n",
      "episode: 0,             epsilon: 0.0,             sum q-table: 209363.31697005112,             elapsed time [min]: 0.0,              done [%]: 0.0             \n"
     ]
    },
    {
     "name": "stderr",
     "output_type": "stream",
     "text": [
      "  3%|▎         | 25109/960000 [00:50<34:46, 448.12it/s]"
     ]
    },
    {
     "name": "stdout",
     "output_type": "stream",
     "text": [
      "WinRate: 0.92\n",
      "episode: 25000,             epsilon: 0.0,             sum q-table: 209374.8199861199,             elapsed time [min]: 0.84,              done [%]: 2.604166666666667             \n"
     ]
    },
    {
     "name": "stderr",
     "output_type": "stream",
     "text": [
      "  5%|▌         | 50085/960000 [01:40<35:01, 432.95it/s]"
     ]
    },
    {
     "name": "stdout",
     "output_type": "stream",
     "text": [
      "WinRate: 0.64\n",
      "episode: 50000,             epsilon: 0.0,             sum q-table: 209377.48530425562,             elapsed time [min]: 1.68,              done [%]: 5.208333333333334             \n"
     ]
    },
    {
     "name": "stderr",
     "output_type": "stream",
     "text": [
      "  8%|▊         | 75146/960000 [02:31<32:46, 449.95it/s]"
     ]
    },
    {
     "name": "stdout",
     "output_type": "stream",
     "text": [
      "WinRate: 0.92\n",
      "episode: 75000,             epsilon: 0.0,             sum q-table: 209390.49028199236,             elapsed time [min]: 2.52,              done [%]: 7.8125             \n"
     ]
    },
    {
     "name": "stderr",
     "output_type": "stream",
     "text": [
      " 10%|█         | 100148/960000 [03:21<30:21, 472.18it/s]"
     ]
    },
    {
     "name": "stdout",
     "output_type": "stream",
     "text": [
      "WinRate: 0.72\n",
      "episode: 100000,             epsilon: 0.0,             sum q-table: 209394.2985895497,             elapsed time [min]: 3.35,              done [%]: 10.416666666666668             \n"
     ]
    },
    {
     "name": "stderr",
     "output_type": "stream",
     "text": [
      " 13%|█▎        | 125081/960000 [04:11<32:27, 428.80it/s]"
     ]
    },
    {
     "name": "stdout",
     "output_type": "stream",
     "text": [
      "WinRate: 0.68\n",
      "episode: 125000,             epsilon: 0.0,             sum q-table: 209405.96927248084,             elapsed time [min]: 4.2,              done [%]: 13.020833333333334             \n"
     ]
    },
    {
     "name": "stderr",
     "output_type": "stream",
     "text": [
      " 16%|█▌        | 150093/960000 [05:02<30:05, 448.53it/s]"
     ]
    },
    {
     "name": "stdout",
     "output_type": "stream",
     "text": [
      "WinRate: 0.76\n",
      "episode: 150000,             epsilon: 0.0,             sum q-table: 209412.47653827808,             elapsed time [min]: 5.03,              done [%]: 15.625             \n"
     ]
    },
    {
     "name": "stderr",
     "output_type": "stream",
     "text": [
      " 18%|█▊        | 175149/960000 [05:52<27:53, 468.90it/s]"
     ]
    },
    {
     "name": "stdout",
     "output_type": "stream",
     "text": [
      "WinRate: 0.92\n",
      "episode: 175000,             epsilon: 0.0,             sum q-table: 209414.7385005564,             elapsed time [min]: 5.87,              done [%]: 18.229166666666664             \n"
     ]
    },
    {
     "name": "stderr",
     "output_type": "stream",
     "text": [
      " 21%|██        | 200135/960000 [06:43<27:52, 454.43it/s]"
     ]
    },
    {
     "name": "stdout",
     "output_type": "stream",
     "text": [
      "WinRate: 0.84\n",
      "episode: 200000,             epsilon: 0.0,             sum q-table: 209419.1648830355,             elapsed time [min]: 6.72,              done [%]: 20.833333333333336             \n"
     ]
    },
    {
     "name": "stderr",
     "output_type": "stream",
     "text": [
      " 23%|██▎       | 225101/960000 [07:33<26:56, 454.55it/s]"
     ]
    },
    {
     "name": "stdout",
     "output_type": "stream",
     "text": [
      "WinRate: 0.8\n",
      "episode: 225000,             epsilon: 0.0,             sum q-table: 209424.4773300039,             elapsed time [min]: 7.55,              done [%]: 23.4375             \n"
     ]
    },
    {
     "name": "stderr",
     "output_type": "stream",
     "text": [
      " 26%|██▌       | 250095/960000 [08:22<26:31, 446.19it/s]"
     ]
    },
    {
     "name": "stdout",
     "output_type": "stream",
     "text": [
      "WinRate: 0.64\n",
      "episode: 250000,             epsilon: 0.0,             sum q-table: 209430.9120637908,             elapsed time [min]: 8.38,              done [%]: 26.041666666666668             \n"
     ]
    },
    {
     "name": "stderr",
     "output_type": "stream",
     "text": [
      " 29%|██▊       | 275129/960000 [09:12<25:09, 453.62it/s]"
     ]
    },
    {
     "name": "stdout",
     "output_type": "stream",
     "text": [
      "WinRate: 0.76\n",
      "episode: 275000,             epsilon: 0.0,             sum q-table: 209439.67058386948,             elapsed time [min]: 9.2,              done [%]: 28.645833333333332             \n"
     ]
    },
    {
     "name": "stderr",
     "output_type": "stream",
     "text": [
      " 30%|██▉       | 285153/960000 [09:32<22:35, 497.80it/s]\n"
     ]
    },
    {
     "ename": "KeyboardInterrupt",
     "evalue": "",
     "output_type": "error",
     "traceback": [
      "\u001b[0;31m---------------------------------------------------------------------------\u001b[0m",
      "\u001b[0;31mKeyboardInterrupt\u001b[0m                         Traceback (most recent call last)",
      "Cell \u001b[0;32mIn[94], line 50\u001b[0m\n\u001b[1;32m     46\u001b[0m     state, action_space, done \u001b[38;5;241m=\u001b[39m play_random(qagent, player_1\u001b[38;5;241m.\u001b[39mcolor, state, action_space)\n\u001b[1;32m     47\u001b[0m     \u001b[38;5;66;03m#qagent_old.qtable = load_qtable('tables', \"q_table_old\")\u001b[39;00m\n\u001b[1;32m     48\u001b[0m     \u001b[38;5;66;03m#state, action_space, done = play(qagent, player_1.color, state, action_space, last_turn)\u001b[39;00m\n\u001b[1;32m     49\u001b[0m \u001b[38;5;28;01melse\u001b[39;00m:\n\u001b[0;32m---> 50\u001b[0m     state, action_space, done \u001b[38;5;241m=\u001b[39m \u001b[43mplay\u001b[49m\u001b[43m(\u001b[49m\u001b[43mqagent\u001b[49m\u001b[43m,\u001b[49m\u001b[43m \u001b[49m\u001b[43mplayer_2\u001b[49m\u001b[38;5;241;43m.\u001b[39;49m\u001b[43mcolor\u001b[49m\u001b[43m,\u001b[49m\u001b[43m \u001b[49m\u001b[43mstate\u001b[49m\u001b[43m,\u001b[49m\u001b[43m \u001b[49m\u001b[43maction_space\u001b[49m\u001b[43m,\u001b[49m\u001b[43m \u001b[49m\u001b[43mlast_turn\u001b[49m\u001b[43m)\u001b[49m\n\u001b[1;32m     51\u001b[0m visited_states[state] \u001b[38;5;241m+\u001b[39m\u001b[38;5;241m=\u001b[39m \u001b[38;5;241m1\u001b[39m\n\u001b[1;32m     52\u001b[0m \u001b[38;5;28;01mif\u001b[39;00m done \u001b[38;5;241m==\u001b[39m \u001b[38;5;28;01mTrue\u001b[39;00m:\n",
      "Cell \u001b[0;32mIn[89], line 10\u001b[0m, in \u001b[0;36mplay\u001b[0;34m(qagent, player_color, state, action_space, last_turn)\u001b[0m\n\u001b[1;32m      8\u001b[0m pot_lose \u001b[38;5;241m=\u001b[39m \u001b[38;5;28;01mFalse\u001b[39;00m\n\u001b[1;32m      9\u001b[0m col \u001b[38;5;241m=\u001b[39m np\u001b[38;5;241m.\u001b[39marray([\u001b[38;5;241m1\u001b[39m,\u001b[38;5;241m2\u001b[39m])\n\u001b[0;32m---> 10\u001b[0m \u001b[38;5;28;01mif\u001b[39;00m \u001b[43mcheck_for_potential_lose\u001b[49m\u001b[43m(\u001b[49m\u001b[43mpure_state\u001b[49m\u001b[43m,\u001b[49m\u001b[43m \u001b[49m\u001b[43mcol\u001b[49m\u001b[43m[\u001b[49m\u001b[43mcol\u001b[49m\u001b[43m \u001b[49m\u001b[38;5;241;43m!=\u001b[39;49m\u001b[43m \u001b[49m\u001b[43mplayer_color\u001b[49m\u001b[43m]\u001b[49m\u001b[43m[\u001b[49m\u001b[38;5;241;43m0\u001b[39;49m\u001b[43m]\u001b[49m\u001b[43m)\u001b[49m:\n\u001b[1;32m     11\u001b[0m     pot_lose \u001b[38;5;241m=\u001b[39m \u001b[38;5;28;01mTrue\u001b[39;00m\n\u001b[1;32m     13\u001b[0m new_state, reward, done, _ \u001b[38;5;241m=\u001b[39m env\u001b[38;5;241m.\u001b[39mstep((action, player_color))\n",
      "\u001b[0;31mKeyboardInterrupt\u001b[0m: "
     ]
    }
   ],
   "source": [
    "from IPython.display import clear_output\n",
    "import matplotlib.pyplot as plt\n",
    "%matplotlib inline\n",
    "import random\n",
    "\n",
    "start_time = time.time()\n",
    "\n",
    "player_1 = Player(color=1, episodes=episodes)\n",
    "player_2 = Player(color=2, episodes=episodes)\n",
    "\n",
    "track_progress = np.zeros(episodes)\n",
    "\n",
    "win_history = []\n",
    "\n",
    "rewards = []\n",
    "# lr = 0.4, gamma = 0.9, winrate = 0.64\n",
    "# Learning rate: 0.5, Win rate: 0.72, Gamma: 0.9\n",
    "# Learning rate: 0.6, Win rate: 0.5, Gamma: 0.9\n",
    "# Learning rate: 0.7, Win rate: 0.66, Gamma: 0.9\n",
    "# Learning rate: 0.65, Win rate: 0.76, Gamma: 0.8\n",
    "\n",
    "# best \n",
    "# Learning rate: 0.8, Win rate: 0.8, Gamma: 0.9\n",
    "\n",
    "# qagent_old = qagent\n",
    "for episode in tqdm(range(episodes)):\n",
    "    last_turn = False\n",
    "    action_space = np.arange(9)\n",
    "    player_1.reset_reward()\n",
    "    player_2.reset_reward()\n",
    "\n",
    "    # randomly change the order players\n",
    "    start = np.random.choice([1,2])\n",
    "\n",
    "    state, _ = env.reset()\n",
    "    state = np.append(state, start)\n",
    "    state = state_dict[reshape_state(state)]\n",
    "    # if episode % 10_000 == 0:\n",
    "    #     save_qtable(qagent.qtable, 'tables', \"q_table_old\")\n",
    "\n",
    "    for _step in range(start, max_steps + start):\n",
    "        if _step == max_steps + start - 1:\n",
    "            last_turn = True\n",
    "        # change a turn\n",
    "        if _step % 2 == 0:\n",
    "            # state, action_space, done = play_random(qagent, player_1.color, state, action_space)\n",
    "            #qagent_old.qtable = load_qtable('tables', \"q_table_old\")\n",
    "            state, action_space, done = play(qagent, player_1.color, state, action_space, last_turn)\n",
    "        else:\n",
    "            state, action_space, done = play(qagent, player_2.color, state, action_space, last_turn)\n",
    "        visited_states[state] += 1\n",
    "        if done == True:\n",
    "            break\n",
    "\n",
    "    # reduce epsilon for exporation-exploitation tradeoff\n",
    "    qagent.update_epsilon(episode)\n",
    "\n",
    "    #cur_win_rate, reward = play_tictactoe_with_random(env, qagent.qtable, state_dict, num_test_games=100)\n",
    "\n",
    "    #check how good is agent\n",
    "    if episode % 25_000 == 0:\n",
    "        num_games = 50\n",
    "        cur_win_rate, reward = play_tictactoe_with_random(env, qagent.qtable, state_dict, num_test_games=num_games)\n",
    "        win_history.append(sum(cur_win_rate)/num_games)\n",
    "        print(\"WinRate:\", sum(cur_win_rate)/num_games)\n",
    "        # rewards.append(reward)\n",
    "        # clear_output(True)\n",
    "        # # plt.title('eps = {:e}, mean reward = {:.1f}'.format(agent.epsilon, np.mean(rewards[-10:])))\n",
    "        # plt.plot(rewards)\n",
    "        # plt.show()\n",
    "    if episode % 25_000 == 0:\n",
    "\n",
    "        sum_q_table = np.sum(qagent.qtable)\n",
    "        time_passed = round((time.time() - start_time) / 60.0, 2)\n",
    "\n",
    "        print(\n",
    "            f\"episode: {episode}, \\\n",
    "            epsilon: {round(qagent.epsilon, 2)}, \\\n",
    "            sum q-table: {sum_q_table}, \\\n",
    "            elapsed time [min]: {time_passed},  \\\n",
    "            done [%]: {episode / episodes * 100} \\\n",
    "            \"\n",
    "        )\n"
   ]
  },
  {
   "cell_type": "code",
   "execution_count": null,
   "metadata": {},
   "outputs": [],
   "source": []
  },
  {
   "cell_type": "code",
   "execution_count": 61,
   "metadata": {},
   "outputs": [
    {
     "name": "stdout",
     "output_type": "stream",
     "text": [
      "Percent: 90.58881905391995\n"
     ]
    }
   ],
   "source": [
    "visited_states.shape[0]\n",
    "print(\"Percent:\",100*np.sum(visited_states > 0)/visited_states.shape[0])"
   ]
  },
  {
   "cell_type": "code",
   "execution_count": 64,
   "metadata": {},
   "outputs": [
    {
     "name": "stdout",
     "output_type": "stream",
     "text": [
      "WinRate: 0.862\n"
     ]
    }
   ],
   "source": [
    "num_games = 1000\n",
    "cur_win_rate, _ = play_tictactoe_with_random(env, qagent.qtable, state_dict, num_test_games=num_games)\n",
    "win_history.append(sum(cur_win_rate)/num_games)\n",
    "print(\"WinRate:\", sum(cur_win_rate)/num_games)"
   ]
  },
  {
   "cell_type": "code",
   "execution_count": 65,
   "metadata": {},
   "outputs": [
    {
     "name": "stdout",
     "output_type": "stream",
     "text": [
      "q_table_best_check_for_block.npy saved!\n"
     ]
    }
   ],
   "source": [
    "qtable = qagent.qtable\n",
    "save_qtable(qtable, 'tables', \"q_table_best_check_for_block\")"
   ]
  },
  {
   "cell_type": "code",
   "execution_count": null,
   "metadata": {},
   "outputs": [],
   "source": [
    "qtable = load_qtable('tables', \"q_table_best2\")"
   ]
  },
  {
   "cell_type": "code",
   "execution_count": 77,
   "metadata": {},
   "outputs": [
    {
     "name": "stdout",
     "output_type": "stream",
     "text": [
      "340\n",
      "[[0 1 2]\n",
      " [0 1 0]\n",
      " [0 0 2]]\n",
      "Turn was: 2\n",
      "[[ 8.35  0.    0.  ]\n",
      " [ 7.08  0.   10.39]\n",
      " [11.02  9.    0.  ]]\n",
      "6\n"
     ]
    }
   ],
   "source": [
    "#check how correct is q-table\n",
    "\n",
    "state = np.random.choice(np.arange(env.observation_space.n))\n",
    "# state_dict[state]\n",
    "print(state)\n",
    "\n",
    "key = list(filter(lambda x: state_dict[x] == state, state_dict))[0]\n",
    "print(np.array(key[:-1]).reshape(3,3))\n",
    "print(\"Turn was:\", key[-1])\n",
    "print(np.round(qagent.qtable[state].reshape(3,3),2))\n",
    "\n",
    "# q = np.round(qtable[state],2)\n",
    "# print(\"Action: \",np.argmax(q))\n",
    "\n",
    "state_pure = np.array(key[:-1])\n",
    "action_space = np.where(state_pure == 0)[0]\n",
    "\n",
    "best_action = max(action_space, key=lambda action: qagent.qtable[state, action])\n",
    "print(best_action)\n",
    "# array = np.array(qtable[state, :])\n",
    "# order = array.argsort()\n",
    "# ranks = order.argsort()\n",
    "# max_value_rank = np.min(ranks[action_space])\n",
    "# action = np.where(ranks == max_value_rank)[0][0]\n",
    "# action"
   ]
  },
  {
   "cell_type": "code",
   "execution_count": 165,
   "metadata": {},
   "outputs": [
    {
     "name": "stdout",
     "output_type": "stream",
     "text": [
      "Agent beginns\n",
      "--------------------\n",
      "╒═══╤═══╤═══╕\n",
      "│ - │ - │ - │\n",
      "├───┼───┼───┤\n",
      "│ - │ - │ - │\n",
      "├───┼───┼───┤\n",
      "│ - │ - │ - │\n",
      "╘═══╧═══╧═══╛\n",
      "--------------------\n",
      "move Agent\n",
      "Action: 1\n",
      "╒═══╤═══╤═══╕\n",
      "│ - │ O │ - │\n",
      "├───┼───┼───┤\n",
      "│ - │ - │ - │\n",
      "├───┼───┼───┤\n",
      "│ - │ - │ - │\n",
      "╘═══╧═══╧═══╛\n",
      "\n",
      "\n",
      "--------------------\n",
      "Move Human\n",
      "Action: 0\n",
      "╒═══╤═══╤═══╕\n",
      "│ X │ O │ - │\n",
      "├───┼───┼───┤\n",
      "│ - │ - │ - │\n",
      "├───┼───┼───┤\n",
      "│ - │ - │ - │\n",
      "╘═══╧═══╧═══╛\n",
      "-1\n",
      "\n",
      "\n",
      "--------------------\n",
      "move Agent\n",
      "Action: 6\n",
      "╒═══╤═══╤═══╕\n",
      "│ X │ O │ - │\n",
      "├───┼───┼───┤\n",
      "│ - │ - │ - │\n",
      "├───┼───┼───┤\n",
      "│ O │ - │ - │\n",
      "╘═══╧═══╧═══╛\n",
      "\n",
      "\n",
      "--------------------\n",
      "Move Human\n",
      "Action: 5\n",
      "╒═══╤═══╤═══╕\n",
      "│ X │ O │ - │\n",
      "├───┼───┼───┤\n",
      "│ - │ - │ X │\n",
      "├───┼───┼───┤\n",
      "│ O │ - │ - │\n",
      "╘═══╧═══╧═══╛\n",
      "-1\n",
      "\n",
      "\n",
      "--------------------\n",
      "move Agent\n",
      "Action: 3\n",
      "╒═══╤═══╤═══╕\n",
      "│ X │ O │ - │\n",
      "├───┼───┼───┤\n",
      "│ O │ - │ X │\n",
      "├───┼───┼───┤\n",
      "│ O │ - │ - │\n",
      "╘═══╧═══╧═══╛\n",
      "\n",
      "\n",
      "--------------------\n",
      "Move Human\n",
      "Action: 4\n",
      "╒═══╤═══╤═══╕\n",
      "│ X │ O │ - │\n",
      "├───┼───┼───┤\n",
      "│ O │ X │ X │\n",
      "├───┼───┼───┤\n",
      "│ O │ - │ - │\n",
      "╘═══╧═══╧═══╛\n",
      "-1\n",
      "\n",
      "\n",
      "--------------------\n",
      "move Agent\n",
      "Action: 8\n",
      "╒═══╤═══╤═══╕\n",
      "│ X │ O │ - │\n",
      "├───┼───┼───┤\n",
      "│ O │ X │ X │\n",
      "├───┼───┼───┤\n",
      "│ O │ - │ O │\n",
      "╘═══╧═══╧═══╛\n",
      "\n",
      "\n",
      "--------------------\n",
      "Move Human\n",
      "Action: 7\n",
      "╒═══╤═══╤═══╕\n",
      "│ X │ O │ - │\n",
      "├───┼───┼───┤\n",
      "│ O │ X │ X │\n",
      "├───┼───┼───┤\n",
      "│ O │ X │ O │\n",
      "╘═══╧═══╧═══╛\n",
      "-1\n",
      "\n",
      "\n",
      "--------------------\n",
      "move Agent\n",
      "Action: 2\n",
      "╒═══╤═══╤═══╕\n",
      "│ X │ O │ O │\n",
      "├───┼───┼───┤\n",
      "│ O │ X │ X │\n",
      "├───┼───┼───┤\n",
      "│ O │ X │ O │\n",
      "╘═══╧═══╧═══╛\n",
      "\n",
      "\n",
      "There is no Winner!\n",
      "--------------------\n",
      "--------------------\n",
      "\n",
      "\n",
      "\n"
     ]
    }
   ],
   "source": [
    "play_tictactoe(env, qtable, state_dict, num_test_games=1)"
   ]
  }
 ],
 "metadata": {
  "interpreter": {
   "hash": "6050d35557e2eda2bee3489ac5b9239cf3ea28e67ca6bb3b65a2efaf99506245"
  },
  "kernelspec": {
   "display_name": "Python 3.9.12 ('tictactoe_env')",
   "language": "python",
   "name": "python3"
  },
  "language_info": {
   "codemirror_mode": {
    "name": "ipython",
    "version": 3
   },
   "file_extension": ".py",
   "mimetype": "text/x-python",
   "name": "python",
   "nbconvert_exporter": "python",
   "pygments_lexer": "ipython3",
   "version": "3.8.10"
  }
 },
 "nbformat": 4,
 "nbformat_minor": 2
}
