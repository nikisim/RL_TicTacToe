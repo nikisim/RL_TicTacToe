{
 "cells": [
  {
   "cell_type": "markdown",
   "metadata": {},
   "source": [
    "## RL agent Q-learning for TicTacToe env\n",
    "\n",
    "The [Tic-Tac-Toe](https://github.com/MauroLuzzatto/OpenAI-Gym-TicTacToe-Environment) is a simple game environment that allows to train reinforcement learning agents."
   ]
  },
  {
   "cell_type": "code",
   "execution_count": 1,
   "metadata": {},
   "outputs": [],
   "source": [
    "# load the python modules\n",
    "import time\n",
    "import sys\n",
    "import warnings\n",
    "\n",
    "import gym\n",
    "import numpy as np\n",
    "from tqdm import tqdm\n",
    "import gym_TicTacToe\n",
    "\n",
    "from src.qagent import QLearningAgent\n",
    "from src.play_tictactoe import play_tictactoe, play_tictactoe_with_random\n",
    "\n",
    "from src.utils import (\n",
    "    create_state_dictionary,\n",
    "    reshape_state,\n",
    "    save_qtable,\n",
    "    load_qtable\n",
    ")\n",
    "\n",
    "# ignore warnings\n",
    "if not sys.warnoptions:\n",
    "    warnings.simplefilter(\"ignore\")"
   ]
  },
  {
   "cell_type": "code",
   "execution_count": 2,
   "metadata": {},
   "outputs": [],
   "source": [
    "class Player:\n",
    "    def __init__(self, color, episodes: int):\n",
    "        self.color = color\n",
    "        self.reward_array = np.zeros(episodes)\n",
    "        self.reset_reward()\n",
    "        self.name = f\"Player {color}\"\n",
    "\n",
    "    def reset_reward(self):\n",
    "        self.reward = 0"
   ]
  },
  {
   "cell_type": "code",
   "execution_count": 3,
   "metadata": {},
   "outputs": [],
   "source": [
    "# initialize the tictactoe environment\n",
    "env = gym.envs.make(\"TTT-v0\", small=-1, large=10)"
   ]
  },
  {
   "cell_type": "code",
   "execution_count": 4,
   "metadata": {},
   "outputs": [
    {
     "name": "stdout",
     "output_type": "stream",
     "text": [
      "Number of legal states: 17906\n"
     ]
    }
   ],
   "source": [
    "state_dict = create_state_dictionary()\n",
    "state_size = len(state_dict.keys())\n",
    "action_size = env.action_space.n"
   ]
  },
  {
   "cell_type": "code",
   "execution_count": 5,
   "metadata": {},
   "outputs": [],
   "source": [
    "# set training parameters\n",
    "episodes = 260_000\n",
    "max_steps = 9"
   ]
  },
  {
   "cell_type": "code",
   "execution_count": 6,
   "metadata": {},
   "outputs": [],
   "source": [
    "exploration_parameters = {\n",
    "    \"max_epsilon\": 1.0,\n",
    "    \"min_epsilon\": 0.0,\n",
    "    \"decay_rate\": 0.00001,\n",
    "}"
   ]
  },
  {
   "cell_type": "code",
   "execution_count": 7,
   "metadata": {},
   "outputs": [],
   "source": [
    "qagent = QLearningAgent(exploration_parameters, state_size, action_size, learning_rate= 0.55, gamma=0.99)"
   ]
  },
  {
   "cell_type": "code",
   "execution_count": 8,
   "metadata": {},
   "outputs": [],
   "source": [
    "\n",
    "def play(qagent:QLearningAgent, player: Player, state: int, action_space: np.array) -> tuple:\n",
    "    action = qagent.get_action(state, action_space)\n",
    "\n",
    "    # remove action from the action space\n",
    "    action_space = action_space[action_space != action]\n",
    "\n",
    "    new_state, reward, done, _ = env.step((action, player.color))\n",
    "    #TODO: maybe should change a marker after this agent turn \n",
    "    new_state = np.append(new_state, player.color)\n",
    "    new_state = state_dict[reshape_state(new_state)]    \n",
    "\n",
    "    qagent.qtable[state, action] = qagent.update_qtable(\n",
    "        state, new_state, action, reward, done\n",
    "    )\n",
    "    # new state\n",
    "    state = new_state\n",
    "    return state, action_space, done"
   ]
  },
  {
   "cell_type": "code",
   "execution_count": 9,
   "metadata": {},
   "outputs": [],
   "source": [
    "def play_random(qagent:QLearningAgent, player: Player, state: int, action_space: np.array) -> tuple:\n",
    "    action = np.random.choice(action_space)\n",
    "    action_space = action_space[action_space != action]\n",
    "    new_state, reward, done, _ = env.step((action, player.color))\n",
    "    new_state = np.append(new_state, player.color)\n",
    "    new_state = state_dict[reshape_state(new_state)]\n",
    "    state = new_state\n",
    "    return state, action_space, done"
   ]
  },
  {
   "cell_type": "code",
   "execution_count": 10,
   "metadata": {},
   "outputs": [],
   "source": [
    "visited_states = np.zeros((state_size, 1))"
   ]
  },
  {
   "cell_type": "code",
   "execution_count": 11,
   "metadata": {},
   "outputs": [
    {
     "name": "stderr",
     "output_type": "stream",
     "text": [
      "  0%|          | 0/260000 [00:00<?, ?it/s]"
     ]
    },
    {
     "name": "stderr",
     "output_type": "stream",
     "text": [
      "\n"
     ]
    },
    {
     "ename": "AttributeError",
     "evalue": "'Player' object has no attribute 'add_reward'",
     "output_type": "error",
     "traceback": [
      "\u001b[0;31m---------------------------------------------------------------------------\u001b[0m",
      "\u001b[0;31mAttributeError\u001b[0m                            Traceback (most recent call last)",
      "Cell \u001b[0;32mIn[11], line 37\u001b[0m\n\u001b[1;32m     35\u001b[0m     state, action_space, done \u001b[38;5;241m=\u001b[39m play(qagent, player_1, state, action_space)\n\u001b[1;32m     36\u001b[0m \u001b[38;5;28;01melse\u001b[39;00m:\n\u001b[0;32m---> 37\u001b[0m     state, action_space, done \u001b[38;5;241m=\u001b[39m \u001b[43mplay\u001b[49m\u001b[43m(\u001b[49m\u001b[43mqagent\u001b[49m\u001b[43m,\u001b[49m\u001b[43m \u001b[49m\u001b[43mplayer_2\u001b[49m\u001b[43m,\u001b[49m\u001b[43m \u001b[49m\u001b[43mstate\u001b[49m\u001b[43m,\u001b[49m\u001b[43m \u001b[49m\u001b[43maction_space\u001b[49m\u001b[43m)\u001b[49m\n\u001b[1;32m     38\u001b[0m visited_states[state] \u001b[38;5;241m+\u001b[39m\u001b[38;5;241m=\u001b[39m \u001b[38;5;241m1\u001b[39m\n\u001b[1;32m     39\u001b[0m \u001b[38;5;28;01mif\u001b[39;00m done \u001b[38;5;241m==\u001b[39m \u001b[38;5;28;01mTrue\u001b[39;00m:\n",
      "Cell \u001b[0;32mIn[8], line 28\u001b[0m, in \u001b[0;36mplay\u001b[0;34m(qagent, player, state, action_space)\u001b[0m\n\u001b[1;32m     26\u001b[0m \u001b[38;5;66;03m# new state\u001b[39;00m\n\u001b[1;32m     27\u001b[0m state \u001b[38;5;241m=\u001b[39m new_state\n\u001b[0;32m---> 28\u001b[0m \u001b[43mplayer\u001b[49m\u001b[38;5;241;43m.\u001b[39;49m\u001b[43madd_reward\u001b[49m(reward)\n\u001b[1;32m     29\u001b[0m \u001b[38;5;28;01mreturn\u001b[39;00m state, action_space, done\n",
      "\u001b[0;31mAttributeError\u001b[0m: 'Player' object has no attribute 'add_reward'"
     ]
    }
   ],
   "source": [
    "from IPython.display import clear_output\n",
    "import matplotlib.pyplot as plt\n",
    "%matplotlib inline\n",
    "import random\n",
    "\n",
    "start_time = time.time()\n",
    "\n",
    "player_1 = Player(color=1, episodes=episodes)\n",
    "player_2 = Player(color=2, episodes=episodes)\n",
    "\n",
    "track_progress = np.zeros(episodes)\n",
    "\n",
    "win_history = []\n",
    "\n",
    "rewards = []\n",
    "for episode in tqdm(range(episodes)):\n",
    "    \n",
    "    action_space = np.arange(9)\n",
    "\n",
    "    player_1.reset_reward()\n",
    "    player_2.reset_reward()\n",
    "\n",
    "    # randomly change the order players\n",
    "    start = np.random.choice([1,2])\n",
    "\n",
    "    state, _ = env.reset()\n",
    "    state = np.append(state, start)\n",
    "    state = state_dict[reshape_state(state)]\n",
    "\n",
    "    for _step in range(start, max_steps + start):\n",
    "\n",
    "        # change a turn\n",
    "        if _step % 2 == 0:\n",
    "            #state, action_space, done = play_random(qagent, player_1, state, action_space)\n",
    "            state, action_space, done = play(qagent, player_1, state, action_space)\n",
    "        else:\n",
    "            state, action_space, done = play(qagent, player_2, state, action_space)\n",
    "        visited_states[state] += 1\n",
    "        if done == True:\n",
    "            break\n",
    "\n",
    "    # reduce epsilon for exporation-exploitation tradeoff\n",
    "    qagent.update_epsilon(episode)\n",
    "\n",
    "    #check how good is agent\n",
    "    if episode % 1_000 == 0:\n",
    "        num_games = 50\n",
    "        cur_win_rate, reward = play_tictactoe_with_random(env, qagent.qtable, state_dict, num_test_games=num_games)\n",
    "        win_history.append(sum(cur_win_rate)/num_games)\n",
    "        print(\"WinRate:\", sum(cur_win_rate)/num_games)\n",
    "        # rewards.append(reward)\n",
    "        # clear_output(True)\n",
    "        # # plt.title('eps = {:e}, mean reward = {:.1f}'.format(agent.epsilon, np.mean(rewards[-10:])))\n",
    "        # plt.plot(rewards)\n",
    "        # plt.show()\n",
    "    if episode % 1_0000 == 0:\n",
    "\n",
    "        sum_q_table = np.sum(qagent.qtable)\n",
    "        time_passed = round((time.time() - start_time) / 60.0, 2)\n",
    "\n",
    "        print(\n",
    "            f\"episode: {episode}, \\\n",
    "            epsilon: {round(qagent.epsilon, 2)}, \\\n",
    "            sum q-table: {sum_q_table}, \\\n",
    "            elapsed time [min]: {time_passed},  \\\n",
    "            done [%]: {episode / episodes * 100} \\\n",
    "            \"\n",
    "        )\n"
   ]
  },
  {
   "cell_type": "code",
   "execution_count": 55,
   "metadata": {},
   "outputs": [
    {
     "name": "stdout",
     "output_type": "stream",
     "text": [
      "WinRate: 0.678\n"
     ]
    }
   ],
   "source": [
    "num_games = 1000\n",
    "cur_win_rate, _ = play_tictactoe_with_random(env, qagent.qtable, state_dict, num_test_games=num_games)\n",
    "win_history.append(sum(cur_win_rate)/num_games)\n",
    "print(\"WinRate:\", sum(cur_win_rate)/num_games)"
   ]
  },
  {
   "cell_type": "code",
   "execution_count": 43,
   "metadata": {},
   "outputs": [
    {
     "name": "stdout",
     "output_type": "stream",
     "text": [
      "q_table_070.npy saved!\n"
     ]
    }
   ],
   "source": [
    "qtable = qagent.qtable\n",
    "save_qtable(qtable, 'tables', \"q_table_070\")"
   ]
  },
  {
   "cell_type": "code",
   "execution_count": null,
   "metadata": {},
   "outputs": [],
   "source": [
    "q_table = load_qtable('tables', \"q_table_067\")"
   ]
  },
  {
   "cell_type": "code",
   "execution_count": 59,
   "metadata": {},
   "outputs": [
    {
     "name": "stdout",
     "output_type": "stream",
     "text": [
      "Agent beginns\n",
      "--------------------\n",
      "╒═══╤═══╤═══╕\n",
      "│ - │ - │ - │\n",
      "├───┼───┼───┤\n",
      "│ - │ - │ - │\n",
      "├───┼───┼───┤\n",
      "│ - │ - │ - │\n",
      "╘═══╧═══╧═══╛\n",
      "--------------------\n",
      "Move Human\n",
      "Action: 4\n",
      "-1\n",
      "\n",
      "\n",
      "╒═══╤═══╤═══╕\n",
      "│ - │ - │ - │\n",
      "├───┼───┼───┤\n",
      "│ - │ X │ - │\n",
      "├───┼───┼───┤\n",
      "│ - │ - │ - │\n",
      "╘═══╧═══╧═══╛\n",
      "--------------------\n",
      "move Agent\n",
      "Action: 3\n",
      "\n",
      "\n",
      "╒═══╤═══╤═══╕\n",
      "│ - │ - │ - │\n",
      "├───┼───┼───┤\n",
      "│ O │ X │ - │\n",
      "├───┼───┼───┤\n",
      "│ - │ - │ - │\n",
      "╘═══╧═══╧═══╛\n",
      "--------------------\n",
      "Move Human\n",
      "Action: 0\n",
      "-1\n",
      "\n",
      "\n",
      "╒═══╤═══╤═══╕\n",
      "│ X │ - │ - │\n",
      "├───┼───┼───┤\n",
      "│ O │ X │ - │\n",
      "├───┼───┼───┤\n",
      "│ - │ - │ - │\n",
      "╘═══╧═══╧═══╛\n",
      "--------------------\n",
      "move Agent\n",
      "Action: 8\n",
      "\n",
      "\n",
      "╒═══╤═══╤═══╕\n",
      "│ X │ - │ - │\n",
      "├───┼───┼───┤\n",
      "│ O │ X │ - │\n",
      "├───┼───┼───┤\n",
      "│ - │ - │ O │\n",
      "╘═══╧═══╧═══╛\n",
      "--------------------\n",
      "Move Human\n",
      "Action: 1\n",
      "-1\n",
      "\n",
      "\n",
      "╒═══╤═══╤═══╕\n",
      "│ X │ X │ - │\n",
      "├───┼───┼───┤\n",
      "│ O │ X │ - │\n",
      "├───┼───┼───┤\n",
      "│ - │ - │ O │\n",
      "╘═══╧═══╧═══╛\n",
      "--------------------\n",
      "move Agent\n",
      "Action: 7\n",
      "\n",
      "\n",
      "╒═══╤═══╤═══╕\n",
      "│ X │ X │ - │\n",
      "├───┼───┼───┤\n",
      "│ O │ X │ - │\n",
      "├───┼───┼───┤\n",
      "│ - │ O │ O │\n",
      "╘═══╧═══╧═══╛\n",
      "--------------------\n",
      "Move Human\n",
      "Action: 6\n",
      "-1\n",
      "\n",
      "\n",
      "╒═══╤═══╤═══╕\n",
      "│ X │ X │ - │\n",
      "├───┼───┼───┤\n",
      "│ O │ X │ - │\n",
      "├───┼───┼───┤\n",
      "│ X │ O │ O │\n",
      "╘═══╧═══╧═══╛\n",
      "--------------------\n",
      "move Agent\n",
      "Action: 2\n",
      "\n",
      "\n",
      "╒═══╤═══╤═══╕\n",
      "│ X │ X │ O │\n",
      "├───┼───┼───┤\n",
      "│ O │ X │ - │\n",
      "├───┼───┼───┤\n",
      "│ X │ O │ O │\n",
      "╘═══╧═══╧═══╛\n",
      "--------------------\n",
      "Move Human\n",
      "Action: 5\n",
      "-1\n",
      "\n",
      "\n",
      "There is no Winner!\n",
      "--------------------\n",
      "--------------------\n",
      "\n",
      "\n",
      "\n"
     ]
    }
   ],
   "source": [
    "play_tictactoe(env, qagent.qtable, state_dict, num_test_games=1)"
   ]
  },
  {
   "cell_type": "code",
   "execution_count": 78,
   "metadata": {},
   "outputs": [
    {
     "name": "stdout",
     "output_type": "stream",
     "text": [
      "4919\n",
      "[[1 2 0]\n",
      " [0 2 1]\n",
      " [0 0 2]]\n",
      "Turn was: 2\n",
      "[[0.  0.  7.2]\n",
      " [7.2 0.  0. ]\n",
      " [7.7 5.8 0. ]]\n"
     ]
    }
   ],
   "source": [
    "# state = np.random.choice(np.arange(env.observation_space.n))\n",
    "# # state_dict[state]\n",
    "# print(state)\n",
    "\n",
    "# key = list(filter(lambda x: state_dict[x] == state, state_dict))[0]\n",
    "# print(np.array(key[:-1]).reshape(3,3))\n",
    "# print(\"Turn was:\", key[-1])\n",
    "# print(np.round(qagent.qtable[state].reshape(3,3),1))"
   ]
  },
  {
   "cell_type": "code",
   "execution_count": null,
   "metadata": {},
   "outputs": [],
   "source": []
  }
 ],
 "metadata": {
  "interpreter": {
   "hash": "6050d35557e2eda2bee3489ac5b9239cf3ea28e67ca6bb3b65a2efaf99506245"
  },
  "kernelspec": {
   "display_name": "Python 3.9.12 ('tictactoe_env')",
   "language": "python",
   "name": "python3"
  },
  "language_info": {
   "codemirror_mode": {
    "name": "ipython",
    "version": 3
   },
   "file_extension": ".py",
   "mimetype": "text/x-python",
   "name": "python",
   "nbconvert_exporter": "python",
   "pygments_lexer": "ipython3",
   "version": "3.8.10"
  }
 },
 "nbformat": 4,
 "nbformat_minor": 2
}
