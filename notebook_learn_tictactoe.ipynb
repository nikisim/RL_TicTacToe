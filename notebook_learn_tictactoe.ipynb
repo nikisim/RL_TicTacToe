{
 "cells": [
  {
   "cell_type": "markdown",
   "metadata": {},
   "source": [
    "## RL agent Q-learning for TicTacToe env\n",
    "\n",
    "The [Tic-Tac-Toe](https://github.com/MauroLuzzatto/OpenAI-Gym-TicTacToe-Environment) is a simple game environment that allows to train reinforcement learning agents. These notebook contains an implemetation of Q-learning with epsilon-greedy strategy for TicTacToe env."
   ]
  },
  {
   "cell_type": "code",
   "execution_count": 4,
   "metadata": {},
   "outputs": [],
   "source": [
    "# load the python modules\n",
    "import time\n",
    "import sys\n",
    "import warnings\n",
    "\n",
    "import gym\n",
    "import numpy as np\n",
    "from tqdm import tqdm\n",
    "import gym_TicTacToe\n",
    "\n",
    "from src.qagent import QLearningAgent\n",
    "from src.play_tictactoe import play_tictactoe, play_tictactoe_with_random\n",
    "\n",
    "from src.utils import (\n",
    "    create_state_dictionary,\n",
    "    reshape_state,\n",
    "    save_qtable,\n",
    "    load_qtable\n",
    ")\n",
    "\n",
    "# ignore warnings\n",
    "if not sys.warnoptions:\n",
    "    warnings.simplefilter(\"ignore\")"
   ]
  },
  {
   "cell_type": "code",
   "execution_count": 5,
   "metadata": {},
   "outputs": [],
   "source": [
    "class Player:\n",
    "    def __init__(self, color, episodes: int):\n",
    "        self.color = color\n",
    "        self.reward_array = np.zeros(episodes)\n",
    "        self.reset_reward()\n",
    "        self.name = f\"Player {color}\"\n",
    "\n",
    "    def reset_reward(self):\n",
    "        self.reward = 0"
   ]
  },
  {
   "cell_type": "code",
   "execution_count": 6,
   "metadata": {},
   "outputs": [],
   "source": [
    "\n",
    "# initialize the tictactoe environment\n",
    "env = gym.envs.make(\"TTT-v0\", small=-1, large=10)"
   ]
  },
  {
   "cell_type": "code",
   "execution_count": 7,
   "metadata": {},
   "outputs": [
    {
     "name": "stdout",
     "output_type": "stream",
     "text": [
      "Number of legal states: 12092\n"
     ]
    }
   ],
   "source": [
    "state_dict = create_state_dictionary()\n",
    "state_size = len(state_dict.keys())\n",
    "action_size = env.action_space.n"
   ]
  },
  {
   "cell_type": "code",
   "execution_count": 8,
   "metadata": {},
   "outputs": [],
   "source": [
    "# set training parameters\n",
    "episodes = 660_000\n",
    "max_steps = 9"
   ]
  },
  {
   "cell_type": "code",
   "execution_count": 9,
   "metadata": {},
   "outputs": [],
   "source": [
    "exploration_parameters = {\n",
    "    \"max_epsilon\": 1.0,\n",
    "    \"min_epsilon\": 0.0,\n",
    "    \"decay_rate\": 0.00001,\n",
    "}"
   ]
  },
  {
   "cell_type": "code",
   "execution_count": 10,
   "metadata": {},
   "outputs": [],
   "source": [
    "qagent = QLearningAgent(exploration_parameters, state_size, action_size, learning_rate=0.1, gamma=0.99)"
   ]
  },
  {
   "cell_type": "code",
   "execution_count": 11,
   "metadata": {},
   "outputs": [],
   "source": [
    "\n",
    "def play(qagent:QLearningAgent, player: Player, state: int, action_space: np.array, last_turn: bool) -> tuple:\n",
    "    action = qagent.get_action(state, action_space)\n",
    "\n",
    "    # remove action from the action space\n",
    "    action_space = action_space[action_space != action]\n",
    "\n",
    "    new_state, reward, done, _ = env.step((action, player.color))\n",
    "\n",
    "    if (last_turn == True) and (done == False):\n",
    "        reward += 7\n",
    "        # print(f\"New_state:{new_state}, Reward:{reward}, Done:{done}\")\n",
    "    #TODO: maybe should change a marker after this agent turn \n",
    "    new_state = np.append(new_state, player.color)\n",
    "    new_state = state_dict[reshape_state(new_state)] \n",
    "\n",
    "    qagent.qtable[state, action] = qagent.update_qtable(\n",
    "        state, new_state, action, reward, done\n",
    "    )\n",
    "    # new state\n",
    "    state = new_state\n",
    "    return state, action_space, done"
   ]
  },
  {
   "cell_type": "code",
   "execution_count": 12,
   "metadata": {},
   "outputs": [],
   "source": [
    "def play_random(qagent:QLearningAgent, player: Player, state: int, action_space: np.array) -> tuple:\n",
    "    action = np.random.choice(action_space)\n",
    "    action_space = action_space[action_space != action]\n",
    "    new_state, reward, done, _ = env.step((action, player.color))\n",
    "    new_state = np.append(new_state, player.color)\n",
    "    new_state = state_dict[reshape_state(new_state)]\n",
    "    state = new_state\n",
    "    return state, action_space, done"
   ]
  },
  {
   "cell_type": "code",
   "execution_count": 13,
   "metadata": {},
   "outputs": [],
   "source": [
    "visited_states = np.zeros((state_size, 1))"
   ]
  },
  {
   "cell_type": "code",
   "execution_count": 14,
   "metadata": {},
   "outputs": [
    {
     "name": "stderr",
     "output_type": "stream",
     "text": [
      "  0%|          | 496/660000 [00:00<04:23, 2504.97it/s]"
     ]
    },
    {
     "name": "stdout",
     "output_type": "stream",
     "text": [
      "WinRate: 0.56\n",
      "episode: 0,             epsilon: 1.0,             sum q-table: 21.949572621298703,             elapsed time [min]: 0.0,              done [%]: 0.0             \n"
     ]
    },
    {
     "name": "stderr",
     "output_type": "stream",
     "text": [
      "  4%|▍         | 25435/660000 [00:08<03:51, 2740.26it/s]"
     ]
    },
    {
     "name": "stdout",
     "output_type": "stream",
     "text": [
      "WinRate: 0.28\n",
      "episode: 25000,             epsilon: 0.78,             sum q-table: 172595.70168621192,             elapsed time [min]: 0.14,              done [%]: 3.787878787878788             \n"
     ]
    },
    {
     "name": "stderr",
     "output_type": "stream",
     "text": [
      "  8%|▊         | 50303/660000 [00:17<03:54, 2601.15it/s]"
     ]
    },
    {
     "name": "stdout",
     "output_type": "stream",
     "text": [
      "WinRate: 0.8\n",
      "episode: 50000,             epsilon: 0.61,             sum q-table: 205213.750002212,             elapsed time [min]: 0.29,              done [%]: 7.575757575757576             \n"
     ]
    },
    {
     "name": "stderr",
     "output_type": "stream",
     "text": [
      " 11%|█▏        | 75486/660000 [00:27<03:54, 2494.43it/s]"
     ]
    },
    {
     "name": "stdout",
     "output_type": "stream",
     "text": [
      "WinRate: 0.88\n",
      "episode: 75000,             epsilon: 0.47,             sum q-table: 209727.00811511706,             elapsed time [min]: 0.45,              done [%]: 11.363636363636363             \n"
     ]
    },
    {
     "name": "stderr",
     "output_type": "stream",
     "text": [
      " 15%|█▌        | 100356/660000 [00:37<03:45, 2484.60it/s]"
     ]
    },
    {
     "name": "stdout",
     "output_type": "stream",
     "text": [
      "WinRate: 0.68\n",
      "episode: 100000,             epsilon: 0.37,             sum q-table: 210861.13928443642,             elapsed time [min]: 0.61,              done [%]: 15.151515151515152             \n"
     ]
    },
    {
     "name": "stderr",
     "output_type": "stream",
     "text": [
      " 19%|█▉        | 125458/660000 [00:46<03:40, 2427.65it/s]"
     ]
    },
    {
     "name": "stdout",
     "output_type": "stream",
     "text": [
      "WinRate: 0.64\n",
      "episode: 125000,             epsilon: 0.29,             sum q-table: 211226.18138236215,             elapsed time [min]: 0.78,              done [%]: 18.939393939393938             \n"
     ]
    },
    {
     "name": "stderr",
     "output_type": "stream",
     "text": [
      " 23%|██▎       | 150353/660000 [00:56<03:29, 2429.99it/s]"
     ]
    },
    {
     "name": "stdout",
     "output_type": "stream",
     "text": [
      "WinRate: 0.28\n",
      "episode: 150000,             epsilon: 0.22,             sum q-table: 211411.6950017766,             elapsed time [min]: 0.94,              done [%]: 22.727272727272727             \n"
     ]
    },
    {
     "name": "stderr",
     "output_type": "stream",
     "text": [
      " 27%|██▋       | 175383/660000 [01:06<03:20, 2420.98it/s]"
     ]
    },
    {
     "name": "stdout",
     "output_type": "stream",
     "text": [
      "WinRate: 0.6\n",
      "episode: 175000,             epsilon: 0.17,             sum q-table: 211509.28419710314,             elapsed time [min]: 1.11,              done [%]: 26.515151515151516             \n"
     ]
    },
    {
     "name": "stderr",
     "output_type": "stream",
     "text": [
      " 30%|███       | 200370/660000 [01:16<03:07, 2449.40it/s]"
     ]
    },
    {
     "name": "stdout",
     "output_type": "stream",
     "text": [
      "WinRate: 0.76\n",
      "episode: 200000,             epsilon: 0.14,             sum q-table: 211543.14668774858,             elapsed time [min]: 1.27,              done [%]: 30.303030303030305             \n"
     ]
    },
    {
     "name": "stderr",
     "output_type": "stream",
     "text": [
      " 34%|███▍      | 225315/660000 [01:26<02:57, 2453.75it/s]"
     ]
    },
    {
     "name": "stdout",
     "output_type": "stream",
     "text": [
      "WinRate: 0.28\n",
      "episode: 225000,             epsilon: 0.11,             sum q-table: 211561.08788998582,             elapsed time [min]: 1.44,              done [%]: 34.090909090909086             \n"
     ]
    },
    {
     "name": "stderr",
     "output_type": "stream",
     "text": [
      " 38%|███▊      | 250467/660000 [01:36<02:48, 2434.15it/s]"
     ]
    },
    {
     "name": "stdout",
     "output_type": "stream",
     "text": [
      "WinRate: 0.68\n",
      "episode: 250000,             epsilon: 0.08,             sum q-table: 211573.34717538272,             elapsed time [min]: 1.6,              done [%]: 37.878787878787875             \n"
     ]
    },
    {
     "name": "stderr",
     "output_type": "stream",
     "text": [
      " 42%|████▏     | 275339/660000 [01:46<02:39, 2404.39it/s]"
     ]
    },
    {
     "name": "stdout",
     "output_type": "stream",
     "text": [
      "WinRate: 0.8\n",
      "episode: 275000,             epsilon: 0.06,             sum q-table: 211576.62945478418,             elapsed time [min]: 1.77,              done [%]: 41.66666666666667             \n"
     ]
    },
    {
     "name": "stderr",
     "output_type": "stream",
     "text": [
      " 45%|████▌     | 300299/660000 [01:56<02:27, 2440.29it/s]"
     ]
    },
    {
     "name": "stdout",
     "output_type": "stream",
     "text": [
      "WinRate: 0.72\n",
      "episode: 300000,             epsilon: 0.05,             sum q-table: 211577.60171361954,             elapsed time [min]: 1.93,              done [%]: 45.45454545454545             \n"
     ]
    },
    {
     "name": "stderr",
     "output_type": "stream",
     "text": [
      " 49%|████▉     | 325346/660000 [02:06<02:16, 2447.78it/s]"
     ]
    },
    {
     "name": "stdout",
     "output_type": "stream",
     "text": [
      "WinRate: 0.64\n",
      "episode: 325000,             epsilon: 0.04,             sum q-table: 211577.98585052762,             elapsed time [min]: 2.1,              done [%]: 49.24242424242424             \n"
     ]
    },
    {
     "name": "stderr",
     "output_type": "stream",
     "text": [
      " 53%|█████▎    | 350398/660000 [02:15<02:05, 2464.64it/s]"
     ]
    },
    {
     "name": "stdout",
     "output_type": "stream",
     "text": [
      "WinRate: 0.64\n",
      "episode: 350000,             epsilon: 0.03,             sum q-table: 211578.33370800092,             elapsed time [min]: 2.26,              done [%]: 53.03030303030303             \n"
     ]
    },
    {
     "name": "stderr",
     "output_type": "stream",
     "text": [
      " 57%|█████▋    | 375251/660000 [02:25<02:00, 2368.12it/s]"
     ]
    },
    {
     "name": "stdout",
     "output_type": "stream",
     "text": [
      "WinRate: 0.76\n",
      "episode: 375000,             epsilon: 0.02,             sum q-table: 211578.41968107535,             elapsed time [min]: 2.43,              done [%]: 56.81818181818182             \n"
     ]
    },
    {
     "name": "stderr",
     "output_type": "stream",
     "text": [
      " 61%|██████    | 400320/660000 [02:36<01:49, 2379.51it/s]"
     ]
    },
    {
     "name": "stdout",
     "output_type": "stream",
     "text": [
      "WinRate: 0.56\n",
      "episode: 400000,             epsilon: 0.02,             sum q-table: 211578.46373153286,             elapsed time [min]: 2.6,              done [%]: 60.60606060606061             \n"
     ]
    },
    {
     "name": "stderr",
     "output_type": "stream",
     "text": [
      " 64%|██████▍   | 425418/660000 [02:46<01:38, 2378.72it/s]"
     ]
    },
    {
     "name": "stdout",
     "output_type": "stream",
     "text": [
      "WinRate: 0.4\n",
      "episode: 425000,             epsilon: 0.01,             sum q-table: 211578.4780909603,             elapsed time [min]: 2.77,              done [%]: 64.39393939393939             \n"
     ]
    },
    {
     "name": "stderr",
     "output_type": "stream",
     "text": [
      " 68%|██████▊   | 450277/660000 [02:56<01:28, 2361.11it/s]"
     ]
    },
    {
     "name": "stdout",
     "output_type": "stream",
     "text": [
      "WinRate: 0.72\n",
      "episode: 450000,             epsilon: 0.01,             sum q-table: 211578.52539201817,             elapsed time [min]: 2.94,              done [%]: 68.18181818181817             \n"
     ]
    },
    {
     "name": "stderr",
     "output_type": "stream",
     "text": [
      " 72%|███████▏  | 475380/660000 [03:06<01:15, 2451.13it/s]"
     ]
    },
    {
     "name": "stdout",
     "output_type": "stream",
     "text": [
      "WinRate: 0.48\n",
      "episode: 475000,             epsilon: 0.01,             sum q-table: 211578.5254100886,             elapsed time [min]: 3.1,              done [%]: 71.96969696969697             \n"
     ]
    },
    {
     "name": "stderr",
     "output_type": "stream",
     "text": [
      " 76%|███████▌  | 500300/660000 [03:16<01:05, 2438.53it/s]"
     ]
    },
    {
     "name": "stdout",
     "output_type": "stream",
     "text": [
      "WinRate: 0.72\n",
      "episode: 500000,             epsilon: 0.01,             sum q-table: 211578.5343368829,             elapsed time [min]: 3.27,              done [%]: 75.75757575757575             \n"
     ]
    },
    {
     "name": "stderr",
     "output_type": "stream",
     "text": [
      " 80%|███████▉  | 525322/660000 [03:26<00:55, 2438.39it/s]"
     ]
    },
    {
     "name": "stdout",
     "output_type": "stream",
     "text": [
      "WinRate: 0.6\n",
      "episode: 525000,             epsilon: 0.01,             sum q-table: 211578.53475012069,             elapsed time [min]: 3.43,              done [%]: 79.54545454545455             \n"
     ]
    },
    {
     "name": "stderr",
     "output_type": "stream",
     "text": [
      " 83%|████████▎ | 550369/660000 [03:36<00:44, 2445.39it/s]"
     ]
    },
    {
     "name": "stdout",
     "output_type": "stream",
     "text": [
      "WinRate: 0.48\n",
      "episode: 550000,             epsilon: 0.0,             sum q-table: 211578.5348173431,             elapsed time [min]: 3.6,              done [%]: 83.33333333333334             \n"
     ]
    },
    {
     "name": "stderr",
     "output_type": "stream",
     "text": [
      " 87%|████████▋ | 575396/660000 [03:46<00:34, 2427.79it/s]"
     ]
    },
    {
     "name": "stdout",
     "output_type": "stream",
     "text": [
      "WinRate: 0.8\n",
      "episode: 575000,             epsilon: 0.0,             sum q-table: 211578.53481735097,             elapsed time [min]: 3.77,              done [%]: 87.12121212121212             \n"
     ]
    },
    {
     "name": "stderr",
     "output_type": "stream",
     "text": [
      " 91%|█████████ | 600401/660000 [03:56<00:24, 2415.43it/s]"
     ]
    },
    {
     "name": "stdout",
     "output_type": "stream",
     "text": [
      "WinRate: 0.48\n",
      "episode: 600000,             epsilon: 0.0,             sum q-table: 211578.53481735097,             elapsed time [min]: 3.93,              done [%]: 90.9090909090909             \n"
     ]
    },
    {
     "name": "stderr",
     "output_type": "stream",
     "text": [
      " 95%|█████████▍| 625389/660000 [04:06<00:14, 2331.59it/s]"
     ]
    },
    {
     "name": "stdout",
     "output_type": "stream",
     "text": [
      "WinRate: 0.72\n",
      "episode: 625000,             epsilon: 0.0,             sum q-table: 211578.5351303892,             elapsed time [min]: 4.1,              done [%]: 94.6969696969697             \n"
     ]
    },
    {
     "name": "stderr",
     "output_type": "stream",
     "text": [
      " 99%|█████████▊| 650461/660000 [04:16<00:04, 2330.66it/s]"
     ]
    },
    {
     "name": "stdout",
     "output_type": "stream",
     "text": [
      "WinRate: 0.64\n",
      "episode: 650000,             epsilon: 0.0,             sum q-table: 211578.53513210372,             elapsed time [min]: 4.27,              done [%]: 98.48484848484848             \n"
     ]
    },
    {
     "name": "stderr",
     "output_type": "stream",
     "text": [
      "100%|██████████| 660000/660000 [04:20<00:00, 2534.42it/s]\n"
     ]
    }
   ],
   "source": [
    "from IPython.display import clear_output\n",
    "import matplotlib.pyplot as plt\n",
    "%matplotlib inline\n",
    "import random\n",
    "\n",
    "start_time = time.time()\n",
    "\n",
    "player_1 = Player(color=1, episodes=episodes)\n",
    "player_2 = Player(color=2, episodes=episodes)\n",
    "\n",
    "track_progress = np.zeros(episodes)\n",
    "\n",
    "win_history = []\n",
    "\n",
    "rewards = []\n",
    "lear_rate = 0.8\n",
    "# lr = 0.4, gamma = 0.9, winrate = 0.64\n",
    "# Learning rate: 0.5, Win rate: 0.72, Gamma: 0.9\n",
    "# Learning rate: 0.6, Win rate: 0.5, Gamma: 0.9\n",
    "# Learning rate: 0.7, Win rate: 0.66, Gamma: 0.9\n",
    "# Learning rate: 0.65, Win rate: 0.76, Gamma: 0.8\n",
    "\n",
    "# best \n",
    "# Learning rate: 0.8, Win rate: 0.8, Gamma: 0.9\n",
    "gamma = 0.9\n",
    "\n",
    "\n",
    "qagent = QLearningAgent(exploration_parameters, state_size, action_size, learning_rate=lear_rate, gamma=gamma)\n",
    "# qagent_old = qagent\n",
    "for episode in tqdm(range(episodes)):\n",
    "    last_turn = False\n",
    "    action_space = np.arange(9)\n",
    "    player_1.reset_reward()\n",
    "    player_2.reset_reward()\n",
    "\n",
    "    # randomly change the order players\n",
    "    start = np.random.choice([1,2])\n",
    "\n",
    "    state, _ = env.reset()\n",
    "    state = np.append(state, start)\n",
    "    state = state_dict[reshape_state(state)]\n",
    "    # if episode % 10_000 == 0:\n",
    "    #     save_qtable(qagent.qtable, 'tables', \"q_table_old\")\n",
    "\n",
    "    for _step in range(start, max_steps + start):\n",
    "        if _step == max_steps + start - 1:\n",
    "            last_turn = True\n",
    "        # change a turn\n",
    "        if _step % 2 == 0:\n",
    "            #state, action_space, done = play_random(qagent, player_1, state, action_space)\n",
    "            #qagent_old.qtable = load_qtable('tables', \"q_table_old\")\n",
    "            state, action_space, done = play(qagent, player_1, state, action_space, last_turn)\n",
    "        else:\n",
    "            state, action_space, done = play(qagent, player_2, state, action_space, last_turn)\n",
    "        visited_states[state] += 1\n",
    "        if done == True:\n",
    "            break\n",
    "\n",
    "    # reduce epsilon for exporation-exploitation tradeoff\n",
    "    qagent.update_epsilon(episode)\n",
    "\n",
    "    #cur_win_rate, reward = play_tictactoe_with_random(env, qagent.qtable, state_dict, num_test_games=100)\n",
    "\n",
    "    #check how good is agent\n",
    "    if episode % 25_000 == 0:\n",
    "        num_games = 50\n",
    "        cur_win_rate, reward = play_tictactoe_with_random(env, qagent.qtable, state_dict, num_test_games=num_games)\n",
    "        win_history.append(sum(cur_win_rate)/num_games)\n",
    "        print(\"WinRate:\", sum(cur_win_rate)/num_games)\n",
    "        # rewards.append(reward)\n",
    "        # clear_output(True)\n",
    "        # # plt.title('eps = {:e}, mean reward = {:.1f}'.format(agent.epsilon, np.mean(rewards[-10:])))\n",
    "        # plt.plot(rewards)\n",
    "        # plt.show()\n",
    "    if episode % 25_000 == 0:\n",
    "\n",
    "        sum_q_table = np.sum(qagent.qtable)\n",
    "        time_passed = round((time.time() - start_time) / 60.0, 2)\n",
    "\n",
    "        print(\n",
    "            f\"episode: {episode}, \\\n",
    "            epsilon: {round(qagent.epsilon, 2)}, \\\n",
    "            sum q-table: {sum_q_table}, \\\n",
    "            elapsed time [min]: {time_passed},  \\\n",
    "            done [%]: {episode / episodes * 100} \\\n",
    "            \"\n",
    "        )\n"
   ]
  },
  {
   "cell_type": "code",
   "execution_count": 16,
   "metadata": {},
   "outputs": [
    {
     "name": "stdout",
     "output_type": "stream",
     "text": [
      "Percent: 90.58881905391995\n"
     ]
    }
   ],
   "source": [
    "visited_states.shape[0]\n",
    "print(\"Percent:\",100*np.sum(visited_states > 0)/visited_states.shape[0])"
   ]
  },
  {
   "cell_type": "code",
   "execution_count": 19,
   "metadata": {},
   "outputs": [
    {
     "name": "stdout",
     "output_type": "stream",
     "text": [
      "WinRate: 0.646\n"
     ]
    }
   ],
   "source": [
    "num_games = 1000\n",
    "cur_win_rate, _ = play_tictactoe_with_random(env, qagent.qtable, state_dict, num_test_games=num_games)\n",
    "win_history.append(sum(cur_win_rate)/num_games)\n",
    "print(\"WinRate:\", sum(cur_win_rate)/num_games)"
   ]
  },
  {
   "cell_type": "code",
   "execution_count": 77,
   "metadata": {},
   "outputs": [
    {
     "name": "stdout",
     "output_type": "stream",
     "text": [
      "q_table_best.npy saved!\n"
     ]
    }
   ],
   "source": [
    "qtable = qagent.qtable\n",
    "save_qtable(qtable, 'tables', \"q_table_best\")"
   ]
  },
  {
   "cell_type": "code",
   "execution_count": 4,
   "metadata": {},
   "outputs": [],
   "source": [
    "q_table = load_qtable('tables', \"q_table_best\")"
   ]
  },
  {
   "cell_type": "code",
   "execution_count": 38,
   "metadata": {},
   "outputs": [
    {
     "name": "stdout",
     "output_type": "stream",
     "text": [
      "6007\n",
      "[[0 0 0]\n",
      " [0 2 0]\n",
      " [0 1 2]]\n",
      "Turn was: 2\n",
      "[[3.8 7.1 7.1]\n",
      " [6.7 0.  6.8]\n",
      " [7.1 0.  0. ]]\n"
     ]
    }
   ],
   "source": [
    "#check how correct is q-table\n",
    "\n",
    "state = np.random.choice(np.arange(env.observation_space.n))\n",
    "# state_dict[state]\n",
    "print(state)\n",
    "\n",
    "key = list(filter(lambda x: state_dict[x] == state, state_dict))[0]\n",
    "print(np.array(key[:-1]).reshape(3,3))\n",
    "print(\"Turn was:\", key[-1])\n",
    "print(np.round(qagent.qtable[state].reshape(3,3),1))"
   ]
  },
  {
   "cell_type": "code",
   "execution_count": 5,
   "metadata": {},
   "outputs": [
    {
     "name": "stdout",
     "output_type": "stream",
     "text": [
      "Agent beginns\n",
      "--------------------\n",
      "╒═══╤═══╤═══╕\n",
      "│ - │ - │ - │\n",
      "├───┼───┼───┤\n",
      "│ - │ - │ - │\n",
      "├───┼───┼───┤\n",
      "│ - │ - │ - │\n",
      "╘═══╧═══╧═══╛\n",
      "--------------------\n",
      "Move Human\n",
      "Action: 4\n",
      "-1\n",
      "\n",
      "\n",
      "╒═══╤═══╤═══╕\n",
      "│ - │ - │ - │\n",
      "├───┼───┼───┤\n",
      "│ - │ X │ - │\n",
      "├───┼───┼───┤\n",
      "│ - │ - │ - │\n",
      "╘═══╧═══╧═══╛\n",
      "--------------------\n",
      "move Agent\n",
      "Action: 6\n",
      "\n",
      "\n",
      "╒═══╤═══╤═══╕\n",
      "│ - │ - │ - │\n",
      "├───┼───┼───┤\n",
      "│ - │ X │ - │\n",
      "├───┼───┼───┤\n",
      "│ O │ - │ - │\n",
      "╘═══╧═══╧═══╛\n",
      "--------------------\n",
      "Move Human\n",
      "Action: 0\n",
      "-1\n",
      "\n",
      "\n",
      "╒═══╤═══╤═══╕\n",
      "│ X │ - │ - │\n",
      "├───┼───┼───┤\n",
      "│ - │ X │ - │\n",
      "├───┼───┼───┤\n",
      "│ O │ - │ - │\n",
      "╘═══╧═══╧═══╛\n",
      "--------------------\n",
      "move Agent\n",
      "Action: 8\n",
      "\n",
      "\n",
      "╒═══╤═══╤═══╕\n",
      "│ X │ - │ - │\n",
      "├───┼───┼───┤\n",
      "│ - │ X │ - │\n",
      "├───┼───┼───┤\n",
      "│ O │ - │ O │\n",
      "╘═══╧═══╧═══╛\n",
      "--------------------\n",
      "Move Human\n",
      "Action: 1\n",
      "-1\n",
      "\n",
      "\n",
      "╒═══╤═══╤═══╕\n",
      "│ X │ X │ - │\n",
      "├───┼───┼───┤\n",
      "│ - │ X │ - │\n",
      "├───┼───┼───┤\n",
      "│ O │ - │ O │\n",
      "╘═══╧═══╧═══╛\n",
      "--------------------\n",
      "move Agent\n",
      "Action: 5\n",
      "\n",
      "\n",
      "╒═══╤═══╤═══╕\n",
      "│ X │ X │ - │\n",
      "├───┼───┼───┤\n",
      "│ - │ X │ O │\n",
      "├───┼───┼───┤\n",
      "│ O │ - │ O │\n",
      "╘═══╧═══╧═══╛\n",
      "--------------------\n",
      "Move Human\n",
      "Action: 3\n",
      "-1\n",
      "\n",
      "\n",
      "╒═══╤═══╤═══╕\n",
      "│ X │ X │ - │\n",
      "├───┼───┼───┤\n",
      "│ X │ X │ O │\n",
      "├───┼───┼───┤\n",
      "│ O │ - │ O │\n",
      "╘═══╧═══╧═══╛\n",
      "--------------------\n",
      "move Agent\n",
      "Action: 2\n",
      "reward +10\n",
      "reward -10\n",
      "********************\n",
      "Agent won!\n",
      "********************\n",
      "╒═══╤═══╤═══╕\n",
      "│ X │ X │ O │\n",
      "├───┼───┼───┤\n",
      "│ X │ X │ O │\n",
      "├───┼───┼───┤\n",
      "│ O │ - │ O │\n",
      "╘═══╧═══╧═══╛\n",
      "\n",
      "\n",
      "\n"
     ]
    }
   ],
   "source": [
    "play_tictactoe(env, q_table, state_dict, num_test_games=1)"
   ]
  }
 ],
 "metadata": {
  "interpreter": {
   "hash": "6050d35557e2eda2bee3489ac5b9239cf3ea28e67ca6bb3b65a2efaf99506245"
  },
  "kernelspec": {
   "display_name": "Python 3.9.12 ('tictactoe_env')",
   "language": "python",
   "name": "python3"
  },
  "language_info": {
   "codemirror_mode": {
    "name": "ipython",
    "version": 3
   },
   "file_extension": ".py",
   "mimetype": "text/x-python",
   "name": "python",
   "nbconvert_exporter": "python",
   "pygments_lexer": "ipython3",
   "version": "3.10.12"
  }
 },
 "nbformat": 4,
 "nbformat_minor": 2
}
