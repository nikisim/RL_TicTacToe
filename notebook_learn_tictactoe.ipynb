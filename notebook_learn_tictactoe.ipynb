{
 "cells": [
  {
   "cell_type": "markdown",
   "metadata": {},
   "source": [
    "## RL agent Q-learning for TicTacToe env\n",
    "\n",
    "The [Tic-Tac-Toe](https://github.com/MauroLuzzatto/OpenAI-Gym-TicTacToe-Environment) is a simple game environment that allows to train reinforcement learning agents. These notebook contains an implemetation of Q-learning with epsilon-greedy strategy for TicTacToe env."
   ]
  },
  {
   "cell_type": "code",
   "execution_count": 291,
   "metadata": {},
   "outputs": [],
   "source": [
    "# load the python modules\n",
    "import time\n",
    "import sys\n",
    "import warnings\n",
    "\n",
    "import gym\n",
    "import numpy as np\n",
    "from tqdm import tqdm\n",
    "import gym_TicTacToe\n",
    "\n",
    "from src.qagent import QLearningAgent\n",
    "from src.play_tictactoe import play_tictactoe, play_tictactoe_with_random\n",
    "\n",
    "from src.utils import (\n",
    "    create_state_dictionary,\n",
    "    reshape_state,\n",
    "    save_qtable,\n",
    "    load_qtable\n",
    ")\n",
    "\n",
    "# ignore warnings\n",
    "if not sys.warnoptions:\n",
    "    warnings.simplefilter(\"ignore\")"
   ]
  },
  {
   "cell_type": "code",
   "execution_count": 292,
   "metadata": {},
   "outputs": [],
   "source": [
    "class Player:\n",
    "    def __init__(self, color, episodes: int):\n",
    "        self.color = color\n",
    "        self.reward_array = np.zeros(episodes)\n",
    "        self.reset_reward()\n",
    "        self.name = f\"Player {color}\"\n",
    "\n",
    "    def reset_reward(self):\n",
    "        self.reward = 0"
   ]
  },
  {
   "cell_type": "code",
   "execution_count": 293,
   "metadata": {},
   "outputs": [],
   "source": [
    "\n",
    "# initialize the tictactoe environment\n",
    "env = gym.envs.make(\"TTT-v0\", small=-1, large=10)"
   ]
  },
  {
   "cell_type": "code",
   "execution_count": 294,
   "metadata": {},
   "outputs": [
    {
     "name": "stdout",
     "output_type": "stream",
     "text": [
      "Number of legal states: 12092\n"
     ]
    }
   ],
   "source": [
    "state_dict = create_state_dictionary()\n",
    "state_size = len(state_dict.keys())\n",
    "action_size = env.action_space.n"
   ]
  },
  {
   "cell_type": "code",
   "execution_count": 295,
   "metadata": {},
   "outputs": [],
   "source": [
    "# set training parameters\n",
    "episodes = 960_000\n",
    "max_steps = 9"
   ]
  },
  {
   "cell_type": "code",
   "execution_count": 296,
   "metadata": {},
   "outputs": [],
   "source": [
    "exploration_parameters = {\n",
    "    \"max_epsilon\": 1.0,\n",
    "    \"min_epsilon\": 0.0,\n",
    "    \"decay_rate\": 0.00001,\n",
    "}"
   ]
  },
  {
   "cell_type": "code",
   "execution_count": 297,
   "metadata": {},
   "outputs": [],
   "source": [
    "qagent = QLearningAgent(exploration_parameters, state_size, action_size, learning_rate=0.1, gamma=0.99)"
   ]
  },
  {
   "cell_type": "code",
   "execution_count": 298,
   "metadata": {},
   "outputs": [],
   "source": [
    "def check_for_potential_lose(state, color: int) -> bool:\n",
    "        \"\"\"check if after agent's move there is a lose position\n",
    "\n",
    "        Args:\n",
    "            color (int): of the player's enemy\n",
    "\n",
    "        Returns:\n",
    "            bool: indicating if this was a crucial move\n",
    "        \"\"\"\n",
    "        state_check = np.copy(state)\n",
    "        lose = False\n",
    "        col = np.array([1,2])\n",
    "        #enemy color\n",
    "        enemy_color = color\n",
    "        player_color = col[col != enemy_color][0]\n",
    "        state_check[state_check == player_color] = -1\n",
    "        state_check[state_check == enemy_color] = 1\n",
    "        state_check = state_check.reshape(3,3)\n",
    "        for ii in range(3):\n",
    "            if (\n",
    "                # check columns\n",
    "                np.sum(state_check[:, ii]) == 2\n",
    "                # check rows\n",
    "                or np.sum(state_check[ii, :]) == 2\n",
    "                # check diagonal\n",
    "                or np.sum([state_check[0, 0], state_check[1, 1], state_check[2, 2]])\n",
    "                == 2\n",
    "                or np.sum([state_check[0, 2], state_check[1, 1], state_check[2, 0]])\n",
    "                == 2\n",
    "            ):\n",
    "                lose = True\n",
    "                break\n",
    "        return lose"
   ]
  },
  {
   "cell_type": "code",
   "execution_count": 299,
   "metadata": {},
   "outputs": [
    {
     "data": {
      "text/plain": [
       "True"
      ]
     },
     "execution_count": 299,
     "metadata": {},
     "output_type": "execute_result"
    }
   ],
   "source": [
    "state = np.array([0,1,2,\n",
    "                  0,1,2,\n",
    "                  2,0,1])\n",
    "\n",
    "check_for_potential_lose(state, color=1)"
   ]
  },
  {
   "cell_type": "code",
   "execution_count": 300,
   "metadata": {},
   "outputs": [],
   "source": [
    "def play(qagent:QLearningAgent, player_color, state: int, action_space: np.array, last_turn: bool) -> tuple:\n",
    "    action = qagent.get_action(state, action_space)\n",
    "\n",
    "    # remove action from the action space\n",
    "    action_space = action_space[action_space != action]\n",
    "\n",
    "    new_state, reward, done, _ = env.step((action, player_color))\n",
    "\n",
    "    col = np.array([1,2])\n",
    "    # if done:\n",
    "    #     print(new)\n",
    "    #     reward -= 5\n",
    "    if (done == False):\n",
    "        if check_for_potential_lose(new_state, col[col != player_color][0]):\n",
    "            reward += 5\n",
    "\n",
    "    # if (last_turn == True) and (done == False):\n",
    "    #     reward += 9     # Reward for draw\n",
    "\n",
    "    # elif (last_turn == True) and (done == True):\n",
    "    #     reward += 10\n",
    "        # print(f\"New_state:{new_state}, Reward:{reward}, Done:{done}\")\n",
    "    #TODO: maybe should change a marker after this agent turn \n",
    "    new_state = np.append(new_state, player_color)\n",
    "    new_state = state_dict[reshape_state(new_state)] \n",
    "\n",
    "    qagent.qtable[state, action] = qagent.update_qtable(\n",
    "        state, new_state, action, reward, done\n",
    "    )\n",
    "    # new state\n",
    "    state = new_state\n",
    "    return state, action_space, done"
   ]
  },
  {
   "cell_type": "code",
   "execution_count": 301,
   "metadata": {},
   "outputs": [],
   "source": [
    "def play_random(qagent:QLearningAgent, player_color, state: int, action_space: np.array) -> tuple:\n",
    "    action = np.random.choice(action_space)\n",
    "    action_space = action_space[action_space != action]\n",
    "    new_state, reward, done, _ = env.step((action, player_color))\n",
    "    new_state = np.append(new_state, player_color)\n",
    "    new_state = state_dict[reshape_state(new_state)]\n",
    "    state = new_state\n",
    "    return state, action_space, done"
   ]
  },
  {
   "cell_type": "code",
   "execution_count": 302,
   "metadata": {},
   "outputs": [],
   "source": [
    "visited_states = np.zeros((state_size, 1))"
   ]
  },
  {
   "cell_type": "code",
   "execution_count": 303,
   "metadata": {},
   "outputs": [],
   "source": [
    "lear_rate = 0.8\n",
    "gamma = 0.9\n",
    "qagent = QLearningAgent(exploration_parameters, state_size, action_size, learning_rate=lear_rate, gamma=gamma)"
   ]
  },
  {
   "cell_type": "code",
   "execution_count": 304,
   "metadata": {},
   "outputs": [
    {
     "name": "stderr",
     "output_type": "stream",
     "text": [
      "  0%|          | 145/960000 [00:00<21:19, 749.98it/s]"
     ]
    },
    {
     "name": "stdout",
     "output_type": "stream",
     "text": [
      "WinRate: 0.32\n",
      "episode: 0,             epsilon: 1.0,             sum q-table: 35.28769055589007,             elapsed time [min]: 0.0,              done [%]: 0.0             \n"
     ]
    },
    {
     "name": "stderr",
     "output_type": "stream",
     "text": [
      "  3%|▎         | 25110/960000 [00:25<17:02, 914.34it/s] "
     ]
    },
    {
     "name": "stdout",
     "output_type": "stream",
     "text": [
      "WinRate: 0.6\n",
      "episode: 25000,             epsilon: 0.78,             sum q-table: 322947.1921351756,             elapsed time [min]: 0.42,              done [%]: 2.604166666666667             \n"
     ]
    },
    {
     "name": "stderr",
     "output_type": "stream",
     "text": [
      "  5%|▌         | 50166/960000 [00:51<16:36, 912.71it/s] "
     ]
    },
    {
     "name": "stdout",
     "output_type": "stream",
     "text": [
      "WinRate: 0.76\n",
      "episode: 50000,             epsilon: 0.61,             sum q-table: 389858.83422124316,             elapsed time [min]: 0.86,              done [%]: 5.208333333333334             \n"
     ]
    },
    {
     "name": "stderr",
     "output_type": "stream",
     "text": [
      "  8%|▊         | 75146/960000 [01:18<17:16, 853.82it/s]"
     ]
    },
    {
     "name": "stdout",
     "output_type": "stream",
     "text": [
      "WinRate: 0.76\n",
      "episode: 75000,             epsilon: 0.47,             sum q-table: 401428.1270095596,             elapsed time [min]: 1.31,              done [%]: 7.8125             \n"
     ]
    },
    {
     "name": "stderr",
     "output_type": "stream",
     "text": [
      " 10%|█         | 100168/960000 [01:47<17:51, 802.37it/s]"
     ]
    },
    {
     "name": "stdout",
     "output_type": "stream",
     "text": [
      "WinRate: 0.64\n",
      "episode: 100000,             epsilon: 0.37,             sum q-table: 404816.66246299085,             elapsed time [min]: 1.79,              done [%]: 10.416666666666668             \n"
     ]
    },
    {
     "name": "stderr",
     "output_type": "stream",
     "text": [
      " 13%|█▎        | 125130/960000 [02:17<18:07, 767.41it/s]"
     ]
    },
    {
     "name": "stdout",
     "output_type": "stream",
     "text": [
      "WinRate: 0.92\n",
      "episode: 125000,             epsilon: 0.29,             sum q-table: 406408.81837801303,             elapsed time [min]: 2.29,              done [%]: 13.020833333333334             \n"
     ]
    },
    {
     "name": "stderr",
     "output_type": "stream",
     "text": [
      " 16%|█▌        | 150126/960000 [02:48<18:03, 747.56it/s]"
     ]
    },
    {
     "name": "stdout",
     "output_type": "stream",
     "text": [
      "WinRate: 0.88\n",
      "episode: 150000,             epsilon: 0.22,             sum q-table: 407119.21530385053,             elapsed time [min]: 2.8,              done [%]: 15.625             \n"
     ]
    },
    {
     "name": "stderr",
     "output_type": "stream",
     "text": [
      " 18%|█▊        | 175231/960000 [03:19<17:03, 766.39it/s]"
     ]
    },
    {
     "name": "stdout",
     "output_type": "stream",
     "text": [
      "WinRate: 0.84\n",
      "episode: 175000,             epsilon: 0.17,             sum q-table: 407420.62860306585,             elapsed time [min]: 3.32,              done [%]: 18.229166666666664             \n"
     ]
    },
    {
     "name": "stderr",
     "output_type": "stream",
     "text": [
      " 21%|██        | 200095/960000 [03:51<17:38, 717.78it/s]"
     ]
    },
    {
     "name": "stdout",
     "output_type": "stream",
     "text": [
      "WinRate: 0.8\n",
      "episode: 200000,             epsilon: 0.14,             sum q-table: 407553.9516772704,             elapsed time [min]: 3.85,              done [%]: 20.833333333333336             \n"
     ]
    },
    {
     "name": "stderr",
     "output_type": "stream",
     "text": [
      " 23%|██▎       | 225209/960000 [04:23<16:55, 723.62it/s]"
     ]
    },
    {
     "name": "stdout",
     "output_type": "stream",
     "text": [
      "WinRate: 0.92\n",
      "episode: 225000,             epsilon: 0.11,             sum q-table: 407632.8937557046,             elapsed time [min]: 4.39,              done [%]: 23.4375             \n"
     ]
    },
    {
     "name": "stderr",
     "output_type": "stream",
     "text": [
      " 26%|██▌       | 250096/960000 [04:56<16:23, 721.88it/s]"
     ]
    },
    {
     "name": "stdout",
     "output_type": "stream",
     "text": [
      "WinRate: 0.8\n",
      "episode: 250000,             epsilon: 0.08,             sum q-table: 407668.4021857804,             elapsed time [min]: 4.94,              done [%]: 26.041666666666668             \n"
     ]
    },
    {
     "name": "stderr",
     "output_type": "stream",
     "text": [
      " 29%|██▊       | 275090/960000 [05:29<15:58, 714.58it/s]"
     ]
    },
    {
     "name": "stdout",
     "output_type": "stream",
     "text": [
      "WinRate: 0.8\n",
      "episode: 275000,             epsilon: 0.06,             sum q-table: 407689.2392233756,             elapsed time [min]: 5.48,              done [%]: 28.645833333333332             \n"
     ]
    },
    {
     "name": "stderr",
     "output_type": "stream",
     "text": [
      " 31%|███▏      | 300183/960000 [06:01<15:15, 720.37it/s]"
     ]
    },
    {
     "name": "stdout",
     "output_type": "stream",
     "text": [
      "WinRate: 0.64\n",
      "episode: 300000,             epsilon: 0.05,             sum q-table: 407693.53242040507,             elapsed time [min]: 6.03,              done [%]: 31.25             \n"
     ]
    },
    {
     "name": "stderr",
     "output_type": "stream",
     "text": [
      " 34%|███▍      | 325131/960000 [06:34<14:59, 705.92it/s]"
     ]
    },
    {
     "name": "stdout",
     "output_type": "stream",
     "text": [
      "WinRate: 0.92\n",
      "episode: 325000,             epsilon: 0.04,             sum q-table: 407695.0347176087,             elapsed time [min]: 6.58,              done [%]: 33.85416666666667             \n"
     ]
    },
    {
     "name": "stderr",
     "output_type": "stream",
     "text": [
      " 36%|███▋      | 350153/960000 [07:07<14:16, 712.14it/s]"
     ]
    },
    {
     "name": "stdout",
     "output_type": "stream",
     "text": [
      "WinRate: 0.92\n",
      "episode: 350000,             epsilon: 0.03,             sum q-table: 407695.4927162423,             elapsed time [min]: 7.13,              done [%]: 36.45833333333333             \n"
     ]
    },
    {
     "name": "stderr",
     "output_type": "stream",
     "text": [
      " 39%|███▉      | 375196/960000 [07:40<13:20, 730.65it/s]"
     ]
    },
    {
     "name": "stdout",
     "output_type": "stream",
     "text": [
      "WinRate: 0.8\n",
      "episode: 375000,             epsilon: 0.02,             sum q-table: 407695.7240157717,             elapsed time [min]: 7.67,              done [%]: 39.0625             \n"
     ]
    },
    {
     "name": "stderr",
     "output_type": "stream",
     "text": [
      " 42%|████▏     | 400076/960000 [08:13<13:06, 711.92it/s]"
     ]
    },
    {
     "name": "stdout",
     "output_type": "stream",
     "text": [
      "WinRate: 0.64\n",
      "episode: 400000,             epsilon: 0.02,             sum q-table: 407695.9174073586,             elapsed time [min]: 8.22,              done [%]: 41.66666666666667             \n"
     ]
    },
    {
     "name": "stderr",
     "output_type": "stream",
     "text": [
      " 44%|████▍     | 425182/960000 [08:46<12:37, 705.65it/s]"
     ]
    },
    {
     "name": "stdout",
     "output_type": "stream",
     "text": [
      "WinRate: 0.92\n",
      "episode: 425000,             epsilon: 0.01,             sum q-table: 407696.01683312654,             elapsed time [min]: 8.76,              done [%]: 44.27083333333333             \n"
     ]
    },
    {
     "name": "stderr",
     "output_type": "stream",
     "text": [
      " 47%|████▋     | 450186/960000 [09:18<11:48, 719.92it/s]"
     ]
    },
    {
     "name": "stdout",
     "output_type": "stream",
     "text": [
      "WinRate: 0.92\n",
      "episode: 450000,             epsilon: 0.01,             sum q-table: 407696.02080153197,             elapsed time [min]: 9.31,              done [%]: 46.875             \n"
     ]
    },
    {
     "name": "stderr",
     "output_type": "stream",
     "text": [
      " 49%|████▉     | 475171/960000 [09:51<11:23, 709.49it/s]"
     ]
    },
    {
     "name": "stdout",
     "output_type": "stream",
     "text": [
      "WinRate: 0.8\n",
      "episode: 475000,             epsilon: 0.01,             sum q-table: 407696.1191956878,             elapsed time [min]: 9.86,              done [%]: 49.47916666666667             \n"
     ]
    },
    {
     "name": "stderr",
     "output_type": "stream",
     "text": [
      " 52%|█████▏    | 500083/960000 [10:25<11:06, 690.19it/s]"
     ]
    },
    {
     "name": "stdout",
     "output_type": "stream",
     "text": [
      "WinRate: 0.88\n",
      "episode: 500000,             epsilon: 0.01,             sum q-table: 407696.2031029569,             elapsed time [min]: 10.42,              done [%]: 52.083333333333336             \n"
     ]
    },
    {
     "name": "stderr",
     "output_type": "stream",
     "text": [
      " 55%|█████▍    | 525218/960000 [10:58<10:26, 693.70it/s]"
     ]
    },
    {
     "name": "stdout",
     "output_type": "stream",
     "text": [
      "WinRate: 0.96\n",
      "episode: 525000,             epsilon: 0.01,             sum q-table: 407696.2031033972,             elapsed time [min]: 10.98,              done [%]: 54.6875             \n"
     ]
    },
    {
     "name": "stderr",
     "output_type": "stream",
     "text": [
      " 57%|█████▋    | 550077/960000 [11:32<09:50, 694.64it/s]"
     ]
    },
    {
     "name": "stdout",
     "output_type": "stream",
     "text": [
      "WinRate: 1.0\n",
      "episode: 550000,             epsilon: 0.0,             sum q-table: 407696.2069614918,             elapsed time [min]: 11.53,              done [%]: 57.291666666666664             \n"
     ]
    },
    {
     "name": "stderr",
     "output_type": "stream",
     "text": [
      " 60%|█████▉    | 575159/960000 [12:05<09:06, 703.81it/s]"
     ]
    },
    {
     "name": "stdout",
     "output_type": "stream",
     "text": [
      "WinRate: 0.84\n",
      "episode: 575000,             epsilon: 0.0,             sum q-table: 407696.2069829016,             elapsed time [min]: 12.09,              done [%]: 59.895833333333336             \n"
     ]
    },
    {
     "name": "stderr",
     "output_type": "stream",
     "text": [
      " 63%|██████▎   | 600087/960000 [12:38<08:39, 692.54it/s]"
     ]
    },
    {
     "name": "stdout",
     "output_type": "stream",
     "text": [
      "WinRate: 0.88\n",
      "episode: 600000,             epsilon: 0.0,             sum q-table: 407696.2136074782,             elapsed time [min]: 12.64,              done [%]: 62.5             \n"
     ]
    },
    {
     "name": "stderr",
     "output_type": "stream",
     "text": [
      " 65%|██████▌   | 625148/960000 [13:12<08:02, 694.60it/s]"
     ]
    },
    {
     "name": "stdout",
     "output_type": "stream",
     "text": [
      "WinRate: 1.0\n",
      "episode: 625000,             epsilon: 0.0,             sum q-table: 407696.23080211226,             elapsed time [min]: 13.21,              done [%]: 65.10416666666666             \n"
     ]
    },
    {
     "name": "stderr",
     "output_type": "stream",
     "text": [
      " 68%|██████▊   | 650155/960000 [13:45<07:21, 702.03it/s]"
     ]
    },
    {
     "name": "stdout",
     "output_type": "stream",
     "text": [
      "WinRate: 0.88\n",
      "episode: 650000,             epsilon: 0.0,             sum q-table: 407696.23080211226,             elapsed time [min]: 13.76,              done [%]: 67.70833333333334             \n"
     ]
    },
    {
     "name": "stderr",
     "output_type": "stream",
     "text": [
      " 70%|███████   | 675165/960000 [14:19<06:36, 719.09it/s]"
     ]
    },
    {
     "name": "stdout",
     "output_type": "stream",
     "text": [
      "WinRate: 0.96\n",
      "episode: 675000,             epsilon: 0.0,             sum q-table: 407696.23080211226,             elapsed time [min]: 14.32,              done [%]: 70.3125             \n"
     ]
    },
    {
     "name": "stderr",
     "output_type": "stream",
     "text": [
      " 73%|███████▎  | 700210/960000 [14:52<06:01, 718.49it/s]"
     ]
    },
    {
     "name": "stdout",
     "output_type": "stream",
     "text": [
      "WinRate: 0.96\n",
      "episode: 700000,             epsilon: 0.0,             sum q-table: 407696.23080211226,             elapsed time [min]: 14.87,              done [%]: 72.91666666666666             \n"
     ]
    },
    {
     "name": "stderr",
     "output_type": "stream",
     "text": [
      " 76%|███████▌  | 725210/960000 [15:26<05:36, 697.19it/s]"
     ]
    },
    {
     "name": "stdout",
     "output_type": "stream",
     "text": [
      "WinRate: 0.88\n",
      "episode: 725000,             epsilon: 0.0,             sum q-table: 407696.23080211226,             elapsed time [min]: 15.44,              done [%]: 75.52083333333334             \n"
     ]
    },
    {
     "name": "stderr",
     "output_type": "stream",
     "text": [
      " 78%|███████▊  | 750166/960000 [15:59<05:09, 678.93it/s]"
     ]
    },
    {
     "name": "stdout",
     "output_type": "stream",
     "text": [
      "WinRate: 0.84\n",
      "episode: 750000,             epsilon: 0.0,             sum q-table: 407696.23080211226,             elapsed time [min]: 15.99,              done [%]: 78.125             \n"
     ]
    },
    {
     "name": "stderr",
     "output_type": "stream",
     "text": [
      " 81%|████████  | 775115/960000 [16:32<04:18, 715.65it/s]"
     ]
    },
    {
     "name": "stdout",
     "output_type": "stream",
     "text": [
      "WinRate: 0.88\n",
      "episode: 775000,             epsilon: 0.0,             sum q-table: 407696.23080211226,             elapsed time [min]: 16.54,              done [%]: 80.72916666666666             \n"
     ]
    },
    {
     "name": "stderr",
     "output_type": "stream",
     "text": [
      " 83%|████████▎ | 800167/960000 [17:05<03:42, 718.15it/s]"
     ]
    },
    {
     "name": "stdout",
     "output_type": "stream",
     "text": [
      "WinRate: 0.8\n",
      "episode: 800000,             epsilon: 0.0,             sum q-table: 407696.23080211226,             elapsed time [min]: 17.09,              done [%]: 83.33333333333334             \n"
     ]
    },
    {
     "name": "stderr",
     "output_type": "stream",
     "text": [
      " 86%|████████▌ | 825118/960000 [17:38<03:10, 706.94it/s]"
     ]
    },
    {
     "name": "stdout",
     "output_type": "stream",
     "text": [
      "WinRate: 0.72\n",
      "episode: 825000,             epsilon: 0.0,             sum q-table: 407696.23080211226,             elapsed time [min]: 17.64,              done [%]: 85.9375             \n"
     ]
    },
    {
     "name": "stderr",
     "output_type": "stream",
     "text": [
      " 89%|████████▊ | 850120/960000 [18:11<02:38, 694.92it/s]"
     ]
    },
    {
     "name": "stdout",
     "output_type": "stream",
     "text": [
      "WinRate: 0.92\n",
      "episode: 850000,             epsilon: 0.0,             sum q-table: 407696.23080211226,             elapsed time [min]: 18.19,              done [%]: 88.54166666666666             \n"
     ]
    },
    {
     "name": "stderr",
     "output_type": "stream",
     "text": [
      " 91%|█████████ | 875134/960000 [18:44<02:01, 696.77it/s]"
     ]
    },
    {
     "name": "stdout",
     "output_type": "stream",
     "text": [
      "WinRate: 0.8\n",
      "episode: 875000,             epsilon: 0.0,             sum q-table: 407696.23080211226,             elapsed time [min]: 18.75,              done [%]: 91.14583333333334             \n"
     ]
    },
    {
     "name": "stderr",
     "output_type": "stream",
     "text": [
      " 94%|█████████▍| 900176/960000 [19:18<01:24, 709.90it/s]"
     ]
    },
    {
     "name": "stdout",
     "output_type": "stream",
     "text": [
      "WinRate: 0.92\n",
      "episode: 900000,             epsilon: 0.0,             sum q-table: 407696.23080211226,             elapsed time [min]: 19.3,              done [%]: 93.75             \n"
     ]
    },
    {
     "name": "stderr",
     "output_type": "stream",
     "text": [
      " 96%|█████████▋| 925211/960000 [19:51<00:48, 721.10it/s]"
     ]
    },
    {
     "name": "stdout",
     "output_type": "stream",
     "text": [
      "WinRate: 0.92\n",
      "episode: 925000,             epsilon: 0.0,             sum q-table: 407696.23080211226,             elapsed time [min]: 19.85,              done [%]: 96.35416666666666             \n"
     ]
    },
    {
     "name": "stderr",
     "output_type": "stream",
     "text": [
      " 99%|█████████▉| 950199/960000 [20:24<00:13, 721.22it/s]"
     ]
    },
    {
     "name": "stdout",
     "output_type": "stream",
     "text": [
      "WinRate: 0.92\n",
      "episode: 950000,             epsilon: 0.0,             sum q-table: 407696.23080211226,             elapsed time [min]: 20.4,              done [%]: 98.95833333333334             \n"
     ]
    },
    {
     "name": "stderr",
     "output_type": "stream",
     "text": [
      "100%|██████████| 960000/960000 [20:37<00:00, 775.79it/s]\n"
     ]
    }
   ],
   "source": [
    "from IPython.display import clear_output\n",
    "import matplotlib.pyplot as plt\n",
    "%matplotlib inline\n",
    "import random\n",
    "\n",
    "start_time = time.time()\n",
    "\n",
    "player_1 = Player(color=1, episodes=episodes)\n",
    "player_2 = Player(color=2, episodes=episodes)\n",
    "\n",
    "track_progress = np.zeros(episodes)\n",
    "\n",
    "win_history = []\n",
    "\n",
    "rewards = []\n",
    "# lr = 0.4, gamma = 0.9, winrate = 0.64\n",
    "# Learning rate: 0.5, Win rate: 0.72, Gamma: 0.9\n",
    "# Learning rate: 0.6, Win rate: 0.5, Gamma: 0.9\n",
    "# Learning rate: 0.7, Win rate: 0.66, Gamma: 0.9\n",
    "# Learning rate: 0.65, Win rate: 0.76, Gamma: 0.8\n",
    "\n",
    "# best \n",
    "# Learning rate: 0.8, Win rate: 0.8, Gamma: 0.9\n",
    "\n",
    "# qagent_old = qagent\n",
    "for episode in tqdm(range(episodes)):\n",
    "    last_turn = False\n",
    "    action_space = np.arange(9)\n",
    "    player_1.reset_reward()\n",
    "    player_2.reset_reward()\n",
    "\n",
    "    # randomly change the order players\n",
    "    start = np.random.choice([1,2])\n",
    "\n",
    "    state, _ = env.reset()\n",
    "    state = np.append(state, start)\n",
    "    state = state_dict[reshape_state(state)]\n",
    "    # if episode % 10_000 == 0:\n",
    "    #     save_qtable(qagent.qtable, 'tables', \"q_table_old\")\n",
    "\n",
    "    for _step in range(start, max_steps + start):\n",
    "        if _step == max_steps + start - 1:\n",
    "            last_turn = True\n",
    "        # change a turn\n",
    "        if _step % 2 == 0:\n",
    "            # state, action_space, done = play_random(qagent, player_1.color, state, action_space)\n",
    "            #qagent_old.qtable = load_qtable('tables', \"q_table_old\")\n",
    "            state, action_space, done = play(qagent, player_1.color, state, action_space, last_turn)\n",
    "        else:\n",
    "            state, action_space, done = play(qagent, player_2.color, state, action_space, last_turn)\n",
    "        visited_states[state] += 1\n",
    "        if done == True:\n",
    "            break\n",
    "\n",
    "    # reduce epsilon for exporation-exploitation tradeoff\n",
    "    qagent.update_epsilon(episode)\n",
    "\n",
    "    #cur_win_rate, reward = play_tictactoe_with_random(env, qagent.qtable, state_dict, num_test_games=100)\n",
    "\n",
    "    #check how good is agent\n",
    "    if episode % 25_000 == 0:\n",
    "        num_games = 50\n",
    "        cur_win_rate, reward = play_tictactoe_with_random(env, qagent.qtable, state_dict, num_test_games=num_games)\n",
    "        win_history.append(sum(cur_win_rate)/num_games)\n",
    "        print(\"WinRate:\", sum(cur_win_rate)/num_games)\n",
    "        # rewards.append(reward)\n",
    "        # clear_output(True)\n",
    "        # # plt.title('eps = {:e}, mean reward = {:.1f}'.format(agent.epsilon, np.mean(rewards[-10:])))\n",
    "        # plt.plot(rewards)\n",
    "        # plt.show()\n",
    "    if episode % 25_000 == 0:\n",
    "\n",
    "        sum_q_table = np.sum(qagent.qtable)\n",
    "        time_passed = round((time.time() - start_time) / 60.0, 2)\n",
    "\n",
    "        print(\n",
    "            f\"episode: {episode}, \\\n",
    "            epsilon: {round(qagent.epsilon, 2)}, \\\n",
    "            sum q-table: {sum_q_table}, \\\n",
    "            elapsed time [min]: {time_passed},  \\\n",
    "            done [%]: {episode / episodes * 100} \\\n",
    "            \"\n",
    "        )\n"
   ]
  },
  {
   "cell_type": "code",
   "execution_count": 305,
   "metadata": {},
   "outputs": [
    {
     "name": "stdout",
     "output_type": "stream",
     "text": [
      "Percent: 90.58881905391995\n"
     ]
    }
   ],
   "source": [
    "visited_states.shape[0]\n",
    "print(\"Percent:\",100*np.sum(visited_states > 0)/visited_states.shape[0])"
   ]
  },
  {
   "cell_type": "code",
   "execution_count": 313,
   "metadata": {},
   "outputs": [
    {
     "name": "stdout",
     "output_type": "stream",
     "text": [
      "WinRate: 0.858\n"
     ]
    }
   ],
   "source": [
    "num_games = 1000\n",
    "cur_win_rate, _ = play_tictactoe_with_random(env, qagent.qtable, state_dict, num_test_games=num_games)\n",
    "win_history.append(sum(cur_win_rate)/num_games)\n",
    "print(\"WinRate:\", sum(cur_win_rate)/num_games)"
   ]
  },
  {
   "cell_type": "code",
   "execution_count": 314,
   "metadata": {},
   "outputs": [
    {
     "name": "stdout",
     "output_type": "stream",
     "text": [
      "q_table_best2.npy saved!\n"
     ]
    }
   ],
   "source": [
    "qtable = qagent.qtable\n",
    "save_qtable(qtable, 'tables', \"q_table_best2\")"
   ]
  },
  {
   "cell_type": "code",
   "execution_count": 6,
   "metadata": {},
   "outputs": [],
   "source": [
    "qtable = load_qtable('tables', \"q_table_best\")"
   ]
  },
  {
   "cell_type": "code",
   "execution_count": 324,
   "metadata": {},
   "outputs": [
    {
     "name": "stdout",
     "output_type": "stream",
     "text": [
      "1793\n",
      "[[2 1 2]\n",
      " [1 0 2]\n",
      " [2 1 0]]\n",
      "Turn was: 2\n",
      "[[ 0.   0.   0. ]\n",
      " [ 0.   9.   0. ]\n",
      " [ 0.   0.  12.1]]\n"
     ]
    }
   ],
   "source": [
    "#check how correct is q-table\n",
    "\n",
    "state = np.random.choice(np.arange(env.observation_space.n))\n",
    "# state_dict[state]\n",
    "print(state)\n",
    "\n",
    "key = list(filter(lambda x: state_dict[x] == state, state_dict))[0]\n",
    "print(np.array(key[:-1]).reshape(3,3))\n",
    "print(\"Turn was:\", key[-1])\n",
    "print(np.round(qagent.qtable[state].reshape(3,3),1))\n"
   ]
  },
  {
   "cell_type": "code",
   "execution_count": 10,
   "metadata": {},
   "outputs": [
    {
     "name": "stdout",
     "output_type": "stream",
     "text": [
      "Agent beginns\n",
      "--------------------\n",
      "╒═══╤═══╤═══╕\n",
      "│ - │ - │ - │\n",
      "├───┼───┼───┤\n",
      "│ - │ - │ - │\n",
      "├───┼───┼───┤\n",
      "│ - │ - │ - │\n",
      "╘═══╧═══╧═══╛\n",
      "--------------------\n",
      "Move Human\n",
      "Action: 4\n",
      "╒═══╤═══╤═══╕\n",
      "│ - │ - │ - │\n",
      "├───┼───┼───┤\n",
      "│ - │ X │ - │\n",
      "├───┼───┼───┤\n",
      "│ - │ - │ - │\n",
      "╘═══╧═══╧═══╛\n",
      "-1\n",
      "\n",
      "\n",
      "--------------------\n",
      "move Agent\n",
      "Action: 0\n",
      "╒═══╤═══╤═══╕\n",
      "│ O │ - │ - │\n",
      "├───┼───┼───┤\n",
      "│ - │ X │ - │\n",
      "├───┼───┼───┤\n",
      "│ - │ - │ - │\n",
      "╘═══╧═══╧═══╛\n",
      "\n",
      "\n",
      "--------------------\n",
      "Move Human\n",
      "Action: 1\n",
      "╒═══╤═══╤═══╕\n",
      "│ O │ X │ - │\n",
      "├───┼───┼───┤\n",
      "│ - │ X │ - │\n",
      "├───┼───┼───┤\n",
      "│ - │ - │ - │\n",
      "╘═══╧═══╧═══╛\n",
      "-1\n",
      "\n",
      "\n",
      "--------------------\n",
      "move Agent\n",
      "Action: 6\n",
      "╒═══╤═══╤═══╕\n",
      "│ O │ X │ - │\n",
      "├───┼───┼───┤\n",
      "│ - │ X │ - │\n",
      "├───┼───┼───┤\n",
      "│ O │ - │ - │\n",
      "╘═══╧═══╧═══╛\n",
      "\n",
      "\n",
      "--------------------\n",
      "Move Human\n",
      "Action: 7\n",
      "╒═══╤═══╤═══╕\n",
      "│ O │ X │ - │\n",
      "├───┼───┼───┤\n",
      "│ - │ X │ - │\n",
      "├───┼───┼───┤\n",
      "│ O │ X │ - │\n",
      "╘═══╧═══╧═══╛\n",
      "-1\n",
      "\n",
      "\n",
      "--------------------\n",
      "move Agent\n",
      "Action: 3\n",
      "╒═══╤═══╤═══╕\n",
      "│ O │ X │ - │\n",
      "├───┼───┼───┤\n",
      "│ O │ X │ - │\n",
      "├───┼───┼───┤\n",
      "│ O │ X │ - │\n",
      "╘═══╧═══╧═══╛\n",
      "********************\n",
      "Agent won!\n",
      "********************\n",
      "╒═══╤═══╤═══╕\n",
      "│ O │ X │ - │\n",
      "├───┼───┼───┤\n",
      "│ O │ X │ - │\n",
      "├───┼───┼───┤\n",
      "│ O │ X │ - │\n",
      "╘═══╧═══╧═══╛\n",
      "\n",
      "\n",
      "\n"
     ]
    }
   ],
   "source": [
    "play_tictactoe(env, qtable, state_dict, num_test_games=1)"
   ]
  }
 ],
 "metadata": {
  "interpreter": {
   "hash": "6050d35557e2eda2bee3489ac5b9239cf3ea28e67ca6bb3b65a2efaf99506245"
  },
  "kernelspec": {
   "display_name": "Python 3.9.12 ('tictactoe_env')",
   "language": "python",
   "name": "python3"
  },
  "language_info": {
   "codemirror_mode": {
    "name": "ipython",
    "version": 3
   },
   "file_extension": ".py",
   "mimetype": "text/x-python",
   "name": "python",
   "nbconvert_exporter": "python",
   "pygments_lexer": "ipython3",
   "version": "3.10.12"
  }
 },
 "nbformat": 4,
 "nbformat_minor": 2
}
