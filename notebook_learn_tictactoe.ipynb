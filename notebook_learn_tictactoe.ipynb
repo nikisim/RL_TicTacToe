{
 "cells": [
  {
   "cell_type": "markdown",
   "metadata": {},
   "source": [
    "## RL agent Q-learning for TicTacToe env\n",
    "\n",
    "The [Tic-Tac-Toe](https://github.com/MauroLuzzatto/OpenAI-Gym-TicTacToe-Environment) is a simple game environment that allows to train reinforcement learning agents. These notebook contains an implemetation of Q-learning with epsilon-greedy strategy for TicTacToe env."
   ]
  },
  {
   "cell_type": "code",
   "execution_count": 86,
   "metadata": {},
   "outputs": [],
   "source": [
    "# load the python modules\n",
    "import time\n",
    "import sys\n",
    "import warnings\n",
    "\n",
    "import gym\n",
    "import numpy as np\n",
    "from tqdm import tqdm\n",
    "import gym_TicTacToe\n",
    "\n",
    "from src.qagent import QLearningAgent\n",
    "from src.play_tictactoe import play_tictactoe, play_tictactoe_with_random\n",
    "\n",
    "from src.utils import (\n",
    "    create_state_dictionary,\n",
    "    reshape_state,\n",
    "    save_qtable,\n",
    "    load_qtable\n",
    ")\n",
    "\n",
    "# ignore warnings\n",
    "if not sys.warnoptions:\n",
    "    warnings.simplefilter(\"ignore\")"
   ]
  },
  {
   "cell_type": "code",
   "execution_count": 87,
   "metadata": {},
   "outputs": [],
   "source": [
    "class Player:\n",
    "    def __init__(self, color, episodes: int):\n",
    "        self.color = color\n",
    "        self.reward_array = np.zeros(episodes)\n",
    "        self.name = f\"Player {color}\""
   ]
  },
  {
   "cell_type": "code",
   "execution_count": 88,
   "metadata": {},
   "outputs": [],
   "source": [
    "# initialize the tictactoe environment\n",
    "\n",
    "REWARD_LARGE = 10\n",
    "REWARD_SMALL = -1\n",
    "REWARD_FOR_BLOCK = 9\n",
    "\n",
    "env = gym.envs.make(\"TTT-v0\", small=REWARD_SMALL, large=REWARD_LARGE)"
   ]
  },
  {
   "cell_type": "code",
   "execution_count": 89,
   "metadata": {},
   "outputs": [
    {
     "name": "stdout",
     "output_type": "stream",
     "text": [
      "Number of legal states: 12092\n"
     ]
    }
   ],
   "source": [
    "state_dict = create_state_dictionary()\n",
    "state_size = len(state_dict.keys())\n",
    "action_size = env.action_space.n"
   ]
  },
  {
   "cell_type": "code",
   "execution_count": 90,
   "metadata": {},
   "outputs": [],
   "source": [
    "# set training parameters\n",
    "episodes = 960_000\n",
    "max_steps = 9"
   ]
  },
  {
   "cell_type": "code",
   "execution_count": 91,
   "metadata": {},
   "outputs": [],
   "source": [
    "exploration_parameters = {\n",
    "    \"max_epsilon\": 1.0,\n",
    "    \"min_epsilon\": 0.0,\n",
    "    \"decay_rate\": 0.00001,\n",
    "}"
   ]
  },
  {
   "cell_type": "code",
   "execution_count": 92,
   "metadata": {},
   "outputs": [],
   "source": [
    "# Creating QLearning agent with learning params\n",
    "\n",
    "lear_rate = 0.8\n",
    "gamma = 0.9\n",
    "qagent = QLearningAgent(exploration_parameters, state_size, action_size, learning_rate=lear_rate, gamma=gamma)"
   ]
  },
  {
   "cell_type": "code",
   "execution_count": 93,
   "metadata": {},
   "outputs": [],
   "source": [
    "def check_for_potential_lose(state, color: int) -> bool:\n",
    "        \"\"\"check if after agent's move there is a lose position\n",
    "\n",
    "        Args:\n",
    "            color (int): of the player's enemy\n",
    "\n",
    "        Returns:\n",
    "            bool: indicating if this was a crucial move\n",
    "        \"\"\"\n",
    "        state_check = np.copy(state)\n",
    "        lose = False\n",
    "        col = np.array([1,2])\n",
    "        #enemy color\n",
    "        enemy_color = color\n",
    "        player_color = col[col != enemy_color][0]\n",
    "        state_check[state_check == player_color] = -1\n",
    "        state_check[state_check == enemy_color] = 1\n",
    "        state_check = state_check.reshape(3,3)\n",
    "        for ii in range(3):\n",
    "            if (\n",
    "                # check columns\n",
    "                np.sum(state_check[:, ii]) == 2\n",
    "                # check rows\n",
    "                or np.sum(state_check[ii, :]) == 2\n",
    "                # check diagonal\n",
    "                or np.sum([state_check[0, 0], state_check[1, 1], state_check[2, 2]])\n",
    "                == 2\n",
    "                or np.sum([state_check[0, 2], state_check[1, 1], state_check[2, 0]])\n",
    "                == 2\n",
    "            ):\n",
    "                lose = True\n",
    "                break\n",
    "        return lose"
   ]
  },
  {
   "cell_type": "code",
   "execution_count": 94,
   "metadata": {},
   "outputs": [],
   "source": [
    "# Reverse dict where keys are int\n",
    "reverse_dict = {value: key for key, value in state_dict.items()}"
   ]
  },
  {
   "cell_type": "code",
   "execution_count": 95,
   "metadata": {},
   "outputs": [],
   "source": [
    "def play(qagent:QLearningAgent, player_color, state: int, action_space: np.array) -> tuple:\n",
    "    action = qagent.get_action(state, action_space)\n",
    "\n",
    "    pure_state = np.array(reverse_dict[state][:-1])\n",
    "    # remove action from the action space\n",
    "    action_space = action_space[action_space != action]\n",
    "    # potential lose\n",
    "    pot_lose = False\n",
    "    col = np.array([1,2])\n",
    "    if check_for_potential_lose(pure_state, col[col != player_color][0]):\n",
    "        pot_lose = True\n",
    "\n",
    "    new_state, reward, done, _ = env.step((action, player_color))\n",
    "\n",
    "    # check for block opponent's win\n",
    "    # if agent blocks opponnt's win agent get a reward\n",
    "    if (done == False):\n",
    "        if not check_for_potential_lose(new_state, col[col != player_color][0]) and pot_lose == True:\n",
    "            reward += REWARD_FOR_BLOCK\n",
    "\n",
    "    # Add player mark to a state\n",
    "    new_state = np.append(new_state, player_color)\n",
    "    new_state = state_dict[reshape_state(new_state)] \n",
    "\n",
    "    # Q-table update\n",
    "    qagent.qtable[state, action] = qagent.update_qtable(\n",
    "        state, new_state, action, reward, done\n",
    "    )\n",
    "    # new state\n",
    "    state = new_state\n",
    "    return state, action_space, done"
   ]
  },
  {
   "cell_type": "code",
   "execution_count": 96,
   "metadata": {},
   "outputs": [],
   "source": [
    "def play_random(qagent:QLearningAgent, player_color, state: int, action_space: np.array) -> tuple:\n",
    "    action = np.random.choice(action_space)\n",
    "    action_space = action_space[action_space != action]\n",
    "    new_state, reward, done, _ = env.step((action, player_color))\n",
    "    new_state = np.append(new_state, player_color)\n",
    "    new_state = state_dict[reshape_state(new_state)]\n",
    "    state = new_state\n",
    "    return state, action_space, done"
   ]
  },
  {
   "cell_type": "code",
   "execution_count": 97,
   "metadata": {},
   "outputs": [
    {
     "name": "stderr",
     "output_type": "stream",
     "text": [
      "  0%|          | 261/960000 [00:00<12:07, 1318.88it/s]"
     ]
    },
    {
     "name": "stdout",
     "output_type": "stream",
     "text": [
      "WinRate: 0.44\n",
      "episode: 0,             epsilon: 1.0,             sum q-table: 75.93512829613987,             elapsed time [min]: 0.0,              done [%]: 0.0             \n"
     ]
    },
    {
     "name": "stderr",
     "output_type": "stream",
     "text": [
      "  3%|▎         | 25212/960000 [00:15<09:51, 1579.04it/s]"
     ]
    },
    {
     "name": "stdout",
     "output_type": "stream",
     "text": [
      "WinRate: 0.8\n",
      "episode: 25000,             epsilon: 0.78,             sum q-table: 218143.6694203191,             elapsed time [min]: 0.26,              done [%]: 2.604166666666667             \n"
     ]
    },
    {
     "name": "stderr",
     "output_type": "stream",
     "text": [
      "  5%|▌         | 50191/960000 [00:31<09:52, 1536.56it/s]"
     ]
    },
    {
     "name": "stdout",
     "output_type": "stream",
     "text": [
      "WinRate: 0.88\n",
      "episode: 50000,             epsilon: 0.61,             sum q-table: 291467.75986756757,             elapsed time [min]: 0.53,              done [%]: 5.208333333333334             \n"
     ]
    },
    {
     "name": "stderr",
     "output_type": "stream",
     "text": [
      "  8%|▊         | 75165/960000 [00:48<09:56, 1482.61it/s]"
     ]
    },
    {
     "name": "stdout",
     "output_type": "stream",
     "text": [
      "WinRate: 0.84\n",
      "episode: 75000,             epsilon: 0.47,             sum q-table: 312267.40045290615,             elapsed time [min]: 0.8,              done [%]: 7.8125             \n"
     ]
    },
    {
     "name": "stderr",
     "output_type": "stream",
     "text": [
      " 10%|█         | 100238/960000 [01:05<10:20, 1385.32it/s]"
     ]
    },
    {
     "name": "stdout",
     "output_type": "stream",
     "text": [
      "WinRate: 0.76\n",
      "episode: 100000,             epsilon: 0.37,             sum q-table: 318677.62754511065,             elapsed time [min]: 1.08,              done [%]: 10.416666666666668             \n"
     ]
    },
    {
     "name": "stderr",
     "output_type": "stream",
     "text": [
      " 13%|█▎        | 125247/960000 [01:21<09:42, 1432.49it/s]"
     ]
    },
    {
     "name": "stdout",
     "output_type": "stream",
     "text": [
      "WinRate: 0.84\n",
      "episode: 125000,             epsilon: 0.29,             sum q-table: 321272.70227350295,             elapsed time [min]: 1.36,              done [%]: 13.020833333333334             \n"
     ]
    },
    {
     "name": "stderr",
     "output_type": "stream",
     "text": [
      " 16%|█▌        | 150196/960000 [01:39<09:42, 1390.76it/s]"
     ]
    },
    {
     "name": "stdout",
     "output_type": "stream",
     "text": [
      "WinRate: 0.88\n",
      "episode: 150000,             epsilon: 0.22,             sum q-table: 322486.6181360464,             elapsed time [min]: 1.65,              done [%]: 15.625             \n"
     ]
    },
    {
     "name": "stderr",
     "output_type": "stream",
     "text": [
      " 18%|█▊        | 175242/960000 [01:56<09:37, 1359.15it/s]"
     ]
    },
    {
     "name": "stdout",
     "output_type": "stream",
     "text": [
      "WinRate: 0.96\n",
      "episode: 175000,             epsilon: 0.17,             sum q-table: 323115.8900812629,             elapsed time [min]: 1.95,              done [%]: 18.229166666666664             \n"
     ]
    },
    {
     "name": "stderr",
     "output_type": "stream",
     "text": [
      " 21%|██        | 200272/960000 [02:14<09:12, 1375.90it/s]"
     ]
    },
    {
     "name": "stdout",
     "output_type": "stream",
     "text": [
      "WinRate: 0.92\n",
      "episode: 200000,             epsilon: 0.14,             sum q-table: 323434.4764187776,             elapsed time [min]: 2.24,              done [%]: 20.833333333333336             \n"
     ]
    },
    {
     "name": "stderr",
     "output_type": "stream",
     "text": [
      " 23%|██▎       | 225161/960000 [02:32<09:10, 1333.79it/s]"
     ]
    },
    {
     "name": "stdout",
     "output_type": "stream",
     "text": [
      "WinRate: 0.96\n",
      "episode: 225000,             epsilon: 0.11,             sum q-table: 323613.5244546227,             elapsed time [min]: 2.54,              done [%]: 23.4375             \n"
     ]
    },
    {
     "name": "stderr",
     "output_type": "stream",
     "text": [
      " 26%|██▌       | 250145/960000 [02:50<08:54, 1328.97it/s]"
     ]
    },
    {
     "name": "stdout",
     "output_type": "stream",
     "text": [
      "WinRate: 0.8\n",
      "episode: 250000,             epsilon: 0.08,             sum q-table: 323732.2028621087,             elapsed time [min]: 2.84,              done [%]: 26.041666666666668             \n"
     ]
    },
    {
     "name": "stderr",
     "output_type": "stream",
     "text": [
      " 29%|██▊       | 275170/960000 [03:09<08:37, 1323.62it/s]"
     ]
    },
    {
     "name": "stdout",
     "output_type": "stream",
     "text": [
      "WinRate: 0.84\n",
      "episode: 275000,             epsilon: 0.06,             sum q-table: 323783.88919418375,             elapsed time [min]: 3.15,              done [%]: 28.645833333333332             \n"
     ]
    },
    {
     "name": "stderr",
     "output_type": "stream",
     "text": [
      " 31%|███▏      | 300170/960000 [03:27<08:20, 1317.22it/s]"
     ]
    },
    {
     "name": "stdout",
     "output_type": "stream",
     "text": [
      "WinRate: 0.88\n",
      "episode: 300000,             epsilon: 0.05,             sum q-table: 323816.59080154164,             elapsed time [min]: 3.45,              done [%]: 31.25             \n"
     ]
    },
    {
     "name": "stderr",
     "output_type": "stream",
     "text": [
      " 34%|███▍      | 325262/960000 [03:45<08:00, 1321.37it/s]"
     ]
    },
    {
     "name": "stdout",
     "output_type": "stream",
     "text": [
      "WinRate: 1.0\n",
      "episode: 325000,             epsilon: 0.04,             sum q-table: 323828.3429766503,             elapsed time [min]: 3.76,              done [%]: 33.85416666666667             \n"
     ]
    },
    {
     "name": "stderr",
     "output_type": "stream",
     "text": [
      " 36%|███▋      | 350189/960000 [04:04<07:44, 1312.54it/s]"
     ]
    },
    {
     "name": "stdout",
     "output_type": "stream",
     "text": [
      "WinRate: 0.84\n",
      "episode: 350000,             epsilon: 0.03,             sum q-table: 323841.37222223595,             elapsed time [min]: 4.07,              done [%]: 36.45833333333333             \n"
     ]
    },
    {
     "name": "stderr",
     "output_type": "stream",
     "text": [
      " 39%|███▉      | 375264/960000 [04:22<07:26, 1310.38it/s]"
     ]
    },
    {
     "name": "stdout",
     "output_type": "stream",
     "text": [
      "WinRate: 0.96\n",
      "episode: 375000,             epsilon: 0.02,             sum q-table: 323851.71243372717,             elapsed time [min]: 4.38,              done [%]: 39.0625             \n"
     ]
    },
    {
     "name": "stderr",
     "output_type": "stream",
     "text": [
      " 42%|████▏     | 400139/960000 [04:41<07:11, 1296.27it/s]"
     ]
    },
    {
     "name": "stdout",
     "output_type": "stream",
     "text": [
      "WinRate: 0.84\n",
      "episode: 400000,             epsilon: 0.02,             sum q-table: 323855.1658529311,             elapsed time [min]: 4.69,              done [%]: 41.66666666666667             \n"
     ]
    },
    {
     "name": "stderr",
     "output_type": "stream",
     "text": [
      " 44%|████▍     | 425212/960000 [05:00<06:49, 1306.02it/s]"
     ]
    },
    {
     "name": "stdout",
     "output_type": "stream",
     "text": [
      "WinRate: 0.88\n",
      "episode: 425000,             epsilon: 0.01,             sum q-table: 323857.2533555496,             elapsed time [min]: 5.0,              done [%]: 44.27083333333333             \n"
     ]
    },
    {
     "name": "stderr",
     "output_type": "stream",
     "text": [
      " 47%|████▋     | 450218/960000 [05:18<06:36, 1284.34it/s]"
     ]
    },
    {
     "name": "stdout",
     "output_type": "stream",
     "text": [
      "WinRate: 0.76\n",
      "episode: 450000,             epsilon: 0.01,             sum q-table: 323858.89758372994,             elapsed time [min]: 5.31,              done [%]: 46.875             \n"
     ]
    },
    {
     "name": "stderr",
     "output_type": "stream",
     "text": [
      " 50%|████▉     | 475238/960000 [05:37<06:15, 1291.10it/s]"
     ]
    },
    {
     "name": "stdout",
     "output_type": "stream",
     "text": [
      "WinRate: 0.88\n",
      "episode: 475000,             epsilon: 0.01,             sum q-table: 323859.5131661127,             elapsed time [min]: 5.63,              done [%]: 49.47916666666667             \n"
     ]
    },
    {
     "name": "stderr",
     "output_type": "stream",
     "text": [
      " 52%|█████▏    | 500259/960000 [05:56<05:59, 1280.12it/s]"
     ]
    },
    {
     "name": "stdout",
     "output_type": "stream",
     "text": [
      "WinRate: 0.8\n",
      "episode: 500000,             epsilon: 0.01,             sum q-table: 323859.83106023894,             elapsed time [min]: 5.94,              done [%]: 52.083333333333336             \n"
     ]
    },
    {
     "name": "stderr",
     "output_type": "stream",
     "text": [
      " 55%|█████▍    | 525267/960000 [06:15<05:36, 1291.92it/s]"
     ]
    },
    {
     "name": "stdout",
     "output_type": "stream",
     "text": [
      "WinRate: 0.88\n",
      "episode: 525000,             epsilon: 0.01,             sum q-table: 323859.84166193026,             elapsed time [min]: 6.26,              done [%]: 54.6875             \n"
     ]
    },
    {
     "name": "stderr",
     "output_type": "stream",
     "text": [
      " 57%|█████▋    | 550191/960000 [06:34<05:12, 1312.64it/s]"
     ]
    },
    {
     "name": "stdout",
     "output_type": "stream",
     "text": [
      "WinRate: 0.88\n",
      "episode: 550000,             epsilon: 0.0,             sum q-table: 323860.15483845555,             elapsed time [min]: 6.57,              done [%]: 57.291666666666664             \n"
     ]
    },
    {
     "name": "stderr",
     "output_type": "stream",
     "text": [
      " 60%|█████▉    | 575156/960000 [06:52<04:57, 1294.24it/s]"
     ]
    },
    {
     "name": "stdout",
     "output_type": "stream",
     "text": [
      "WinRate: 0.88\n",
      "episode: 575000,             epsilon: 0.0,             sum q-table: 323860.17031083594,             elapsed time [min]: 6.88,              done [%]: 59.895833333333336             \n"
     ]
    },
    {
     "name": "stderr",
     "output_type": "stream",
     "text": [
      " 63%|██████▎   | 600168/960000 [07:11<04:43, 1267.62it/s]"
     ]
    },
    {
     "name": "stdout",
     "output_type": "stream",
     "text": [
      "WinRate: 0.92\n",
      "episode: 600000,             epsilon: 0.0,             sum q-table: 323860.23916623555,             elapsed time [min]: 7.19,              done [%]: 62.5             \n"
     ]
    },
    {
     "name": "stderr",
     "output_type": "stream",
     "text": [
      " 65%|██████▌   | 625138/960000 [07:30<04:16, 1306.52it/s]"
     ]
    },
    {
     "name": "stdout",
     "output_type": "stream",
     "text": [
      "WinRate: 0.96\n",
      "episode: 625000,             epsilon: 0.0,             sum q-table: 323860.31208978145,             elapsed time [min]: 7.5,              done [%]: 65.10416666666666             \n"
     ]
    },
    {
     "name": "stderr",
     "output_type": "stream",
     "text": [
      " 68%|██████▊   | 650136/960000 [07:48<04:00, 1287.15it/s]"
     ]
    },
    {
     "name": "stdout",
     "output_type": "stream",
     "text": [
      "WinRate: 0.84\n",
      "episode: 650000,             epsilon: 0.0,             sum q-table: 323860.31209162564,             elapsed time [min]: 7.81,              done [%]: 67.70833333333334             \n"
     ]
    },
    {
     "name": "stderr",
     "output_type": "stream",
     "text": [
      " 70%|███████   | 675222/960000 [08:07<03:38, 1301.95it/s]"
     ]
    },
    {
     "name": "stdout",
     "output_type": "stream",
     "text": [
      "WinRate: 0.84\n",
      "episode: 675000,             epsilon: 0.0,             sum q-table: 323860.31371171866,             elapsed time [min]: 8.12,              done [%]: 70.3125             \n"
     ]
    },
    {
     "name": "stderr",
     "output_type": "stream",
     "text": [
      " 73%|███████▎  | 700222/960000 [08:26<03:21, 1288.48it/s]"
     ]
    },
    {
     "name": "stdout",
     "output_type": "stream",
     "text": [
      "WinRate: 0.88\n",
      "episode: 700000,             epsilon: 0.0,             sum q-table: 323860.316045647,             elapsed time [min]: 8.44,              done [%]: 72.91666666666666             \n"
     ]
    },
    {
     "name": "stderr",
     "output_type": "stream",
     "text": [
      " 76%|███████▌  | 725150/960000 [08:45<03:00, 1300.03it/s]"
     ]
    },
    {
     "name": "stdout",
     "output_type": "stream",
     "text": [
      "WinRate: 0.92\n",
      "episode: 725000,             epsilon: 0.0,             sum q-table: 323860.44103583804,             elapsed time [min]: 8.75,              done [%]: 75.52083333333334             \n"
     ]
    },
    {
     "name": "stderr",
     "output_type": "stream",
     "text": [
      " 78%|███████▊  | 750167/960000 [09:04<02:43, 1282.36it/s]"
     ]
    },
    {
     "name": "stdout",
     "output_type": "stream",
     "text": [
      "WinRate: 0.88\n",
      "episode: 750000,             epsilon: 0.0,             sum q-table: 323860.4410426359,             elapsed time [min]: 9.06,              done [%]: 78.125             \n"
     ]
    },
    {
     "name": "stderr",
     "output_type": "stream",
     "text": [
      " 81%|████████  | 775251/960000 [09:22<02:23, 1290.74it/s]"
     ]
    },
    {
     "name": "stdout",
     "output_type": "stream",
     "text": [
      "WinRate: 0.92\n",
      "episode: 775000,             epsilon: 0.0,             sum q-table: 323860.44136212865,             elapsed time [min]: 9.38,              done [%]: 80.72916666666666             \n"
     ]
    },
    {
     "name": "stderr",
     "output_type": "stream",
     "text": [
      " 83%|████████▎ | 800230/960000 [09:41<02:04, 1287.38it/s]"
     ]
    },
    {
     "name": "stdout",
     "output_type": "stream",
     "text": [
      "WinRate: 0.88\n",
      "episode: 800000,             epsilon: 0.0,             sum q-table: 323860.44136227964,             elapsed time [min]: 9.69,              done [%]: 83.33333333333334             \n"
     ]
    },
    {
     "name": "stderr",
     "output_type": "stream",
     "text": [
      " 86%|████████▌ | 825180/960000 [10:00<01:43, 1299.53it/s]"
     ]
    },
    {
     "name": "stdout",
     "output_type": "stream",
     "text": [
      "WinRate: 1.0\n",
      "episode: 825000,             epsilon: 0.0,             sum q-table: 323860.44136231294,             elapsed time [min]: 10.0,              done [%]: 85.9375             \n"
     ]
    },
    {
     "name": "stderr",
     "output_type": "stream",
     "text": [
      " 89%|████████▊ | 850140/960000 [10:19<01:25, 1287.41it/s]"
     ]
    },
    {
     "name": "stdout",
     "output_type": "stream",
     "text": [
      "WinRate: 0.88\n",
      "episode: 850000,             epsilon: 0.0,             sum q-table: 323860.44568746124,             elapsed time [min]: 10.32,              done [%]: 88.54166666666666             \n"
     ]
    },
    {
     "name": "stderr",
     "output_type": "stream",
     "text": [
      " 91%|█████████ | 875212/960000 [10:37<01:05, 1291.70it/s]"
     ]
    },
    {
     "name": "stdout",
     "output_type": "stream",
     "text": [
      "WinRate: 0.96\n",
      "episode: 875000,             epsilon: 0.0,             sum q-table: 323860.44864195556,             elapsed time [min]: 10.63,              done [%]: 91.14583333333334             \n"
     ]
    },
    {
     "name": "stderr",
     "output_type": "stream",
     "text": [
      " 94%|█████████▍| 900139/960000 [10:56<00:46, 1284.31it/s]"
     ]
    },
    {
     "name": "stdout",
     "output_type": "stream",
     "text": [
      "WinRate: 0.92\n",
      "episode: 900000,             epsilon: 0.0,             sum q-table: 323860.44864474185,             elapsed time [min]: 10.94,              done [%]: 93.75             \n"
     ]
    },
    {
     "name": "stderr",
     "output_type": "stream",
     "text": [
      " 96%|█████████▋| 925190/960000 [11:15<00:27, 1279.06it/s]"
     ]
    },
    {
     "name": "stdout",
     "output_type": "stream",
     "text": [
      "WinRate: 0.92\n",
      "episode: 925000,             epsilon: 0.0,             sum q-table: 323860.44864474185,             elapsed time [min]: 11.26,              done [%]: 96.35416666666666             \n"
     ]
    },
    {
     "name": "stderr",
     "output_type": "stream",
     "text": [
      " 99%|█████████▉| 950241/960000 [11:34<00:07, 1293.57it/s]"
     ]
    },
    {
     "name": "stdout",
     "output_type": "stream",
     "text": [
      "WinRate: 1.0\n",
      "episode: 950000,             epsilon: 0.0,             sum q-table: 323860.4888364125,             elapsed time [min]: 11.57,              done [%]: 98.95833333333334             \n"
     ]
    },
    {
     "name": "stderr",
     "output_type": "stream",
     "text": [
      "100%|██████████| 960000/960000 [11:41<00:00, 1367.67it/s]\n"
     ]
    }
   ],
   "source": [
    "from IPython.display import clear_output\n",
    "import matplotlib.pyplot as plt\n",
    "%matplotlib inline\n",
    "import random\n",
    "\n",
    "start_time = time.time()\n",
    "\n",
    "player_1 = Player(color=1, episodes=episodes)\n",
    "player_2 = Player(color=2, episodes=episodes)\n",
    "\n",
    "win_history = []\n",
    "\n",
    "# best learning params\n",
    "# Learning rate: 0.8, Win rate: 0.8, Gamma: 0.9\n",
    "\n",
    "for episode in tqdm(range(episodes)):\n",
    "    action_space = np.arange(9)\n",
    "\n",
    "    # randomly change the order players\n",
    "    start = np.random.choice([1,2])\n",
    "\n",
    "    state, _ = env.reset()\n",
    "    state = np.append(state, start)\n",
    "    state = state_dict[reshape_state(state)]\n",
    "\n",
    "    # One game\n",
    "    for _step in range(start, max_steps + start):\n",
    "        if _step == max_steps + start - 1:\n",
    "            last_turn = True\n",
    "        # change a turn\n",
    "        if _step % 2 == 0:\n",
    "            if episode % 4 == 0:\n",
    "                # Sometimes play against random\n",
    "                state, action_space, done = play_random(qagent, player_1.color, state, action_space)\n",
    "            else:\n",
    "                state, action_space, done = play(qagent, player_1.color, state, action_space)\n",
    "        else:\n",
    "            state, action_space, done = play(qagent, player_2.color, state, action_space)\n",
    "        if done == True:\n",
    "            break\n",
    "\n",
    "    # reduce epsilon for exporation-exploitation tradeoff\n",
    "    qagent.update_epsilon(episode)\n",
    "\n",
    "    #cur_win_rate, reward = play_tictactoe_with_random(env, qagent.qtable, state_dict, num_test_games=100)\n",
    "\n",
    "    #check how good is an agent\n",
    "    if episode % 25_000 == 0:\n",
    "        num_games = 50\n",
    "        cur_win_rate, reward = play_tictactoe_with_random(env, qagent.qtable, state_dict, num_test_games=num_games)\n",
    "        win_history.append(sum(cur_win_rate)/num_games)\n",
    "        print(\"WinRate:\", sum(cur_win_rate)/num_games)\n",
    "        # rewards.append(reward)\n",
    "        # clear_output(True)\n",
    "        # # plt.title('eps = {:e}, mean reward = {:.1f}'.format(agent.epsilon, np.mean(rewards[-10:])))\n",
    "        # plt.plot(rewards)\n",
    "        # plt.show()\n",
    "    if episode % 25_000 == 0:\n",
    "\n",
    "        sum_q_table = np.sum(qagent.qtable)\n",
    "        time_passed = round((time.time() - start_time) / 60.0, 2)\n",
    "\n",
    "        print(\n",
    "            f\"episode: {episode}, \\\n",
    "            epsilon: {round(qagent.epsilon, 2)}, \\\n",
    "            sum q-table: {sum_q_table}, \\\n",
    "            elapsed time [min]: {time_passed},  \\\n",
    "            done [%]: {episode / episodes * 100} \\\n",
    "            \"\n",
    "        )\n"
   ]
  },
  {
   "cell_type": "code",
   "execution_count": 102,
   "metadata": {},
   "outputs": [
    {
     "name": "stdout",
     "output_type": "stream",
     "text": [
      "WinRate: 0.8992\n"
     ]
    }
   ],
   "source": [
    "# Win Rate check\n",
    "\n",
    "num_games = 10000\n",
    "cur_win_rate, _ = play_tictactoe_with_random(env, qagent.qtable, state_dict, num_test_games=num_games)\n",
    "win_history.append(sum(cur_win_rate)/num_games)\n",
    "print(\"WinRate:\", sum(cur_win_rate)/num_games)"
   ]
  },
  {
   "cell_type": "code",
   "execution_count": 47,
   "metadata": {},
   "outputs": [
    {
     "name": "stdout",
     "output_type": "stream",
     "text": [
      "q_table_best_09.npy saved!\n"
     ]
    }
   ],
   "source": [
    "qtable = qagent.qtable\n",
    "save_qtable(qtable, 'tables', \"q_table_best_09\")"
   ]
  },
  {
   "cell_type": "code",
   "execution_count": null,
   "metadata": {},
   "outputs": [],
   "source": [
    "qtable = load_qtable('tables', \"q_table_best2\")"
   ]
  },
  {
   "cell_type": "code",
   "execution_count": 107,
   "metadata": {},
   "outputs": [
    {
     "name": "stdout",
     "output_type": "stream",
     "text": [
      "955\n",
      "[[0 1 1]\n",
      " [2 1 2]\n",
      " [0 2 0]]\n",
      "Turn was: 1\n",
      "[[7.1  0.   0.  ]\n",
      " [0.   0.   0.  ]\n",
      " [7.09 0.   6.78]]\n",
      "0\n"
     ]
    }
   ],
   "source": [
    "#check how correct is q-table\n",
    "\n",
    "state = np.random.choice(np.arange(env.observation_space.n))\n",
    "# state_dict[state]\n",
    "print(state)\n",
    "\n",
    "key = list(filter(lambda x: state_dict[x] == state, state_dict))[0]\n",
    "print(np.array(key[:-1]).reshape(3,3))\n",
    "print(\"Turn was:\", key[-1])\n",
    "print(np.round(qagent.qtable[state].reshape(3,3),2))\n",
    "\n",
    "# q = np.round(qtable[state],2)\n",
    "# print(\"Action: \",np.argmax(q))\n",
    "\n",
    "state_pure = np.array(key[:-1])\n",
    "action_space = np.where(state_pure == 0)[0]\n",
    "\n",
    "best_action = max(action_space, key=lambda action: qagent.qtable[state, action])\n",
    "print(best_action)\n",
    "# array = np.array(qtable[state, :])\n",
    "# order = array.argsort()\n",
    "# ranks = order.argsort()\n",
    "# max_value_rank = np.min(ranks[action_space])\n",
    "# action = np.where(ranks == max_value_rank)[0][0]\n",
    "# action"
   ]
  },
  {
   "cell_type": "code",
   "execution_count": 165,
   "metadata": {},
   "outputs": [
    {
     "name": "stdout",
     "output_type": "stream",
     "text": [
      "Agent beginns\n",
      "--------------------\n",
      "╒═══╤═══╤═══╕\n",
      "│ - │ - │ - │\n",
      "├───┼───┼───┤\n",
      "│ - │ - │ - │\n",
      "├───┼───┼───┤\n",
      "│ - │ - │ - │\n",
      "╘═══╧═══╧═══╛\n",
      "--------------------\n",
      "move Agent\n",
      "Action: 1\n",
      "╒═══╤═══╤═══╕\n",
      "│ - │ O │ - │\n",
      "├───┼───┼───┤\n",
      "│ - │ - │ - │\n",
      "├───┼───┼───┤\n",
      "│ - │ - │ - │\n",
      "╘═══╧═══╧═══╛\n",
      "\n",
      "\n",
      "--------------------\n",
      "Move Human\n",
      "Action: 0\n",
      "╒═══╤═══╤═══╕\n",
      "│ X │ O │ - │\n",
      "├───┼───┼───┤\n",
      "│ - │ - │ - │\n",
      "├───┼───┼───┤\n",
      "│ - │ - │ - │\n",
      "╘═══╧═══╧═══╛\n",
      "-1\n",
      "\n",
      "\n",
      "--------------------\n",
      "move Agent\n",
      "Action: 6\n",
      "╒═══╤═══╤═══╕\n",
      "│ X │ O │ - │\n",
      "├───┼───┼───┤\n",
      "│ - │ - │ - │\n",
      "├───┼───┼───┤\n",
      "│ O │ - │ - │\n",
      "╘═══╧═══╧═══╛\n",
      "\n",
      "\n",
      "--------------------\n",
      "Move Human\n",
      "Action: 5\n",
      "╒═══╤═══╤═══╕\n",
      "│ X │ O │ - │\n",
      "├───┼───┼───┤\n",
      "│ - │ - │ X │\n",
      "├───┼───┼───┤\n",
      "│ O │ - │ - │\n",
      "╘═══╧═══╧═══╛\n",
      "-1\n",
      "\n",
      "\n",
      "--------------------\n",
      "move Agent\n",
      "Action: 3\n",
      "╒═══╤═══╤═══╕\n",
      "│ X │ O │ - │\n",
      "├───┼───┼───┤\n",
      "│ O │ - │ X │\n",
      "├───┼───┼───┤\n",
      "│ O │ - │ - │\n",
      "╘═══╧═══╧═══╛\n",
      "\n",
      "\n",
      "--------------------\n",
      "Move Human\n",
      "Action: 4\n",
      "╒═══╤═══╤═══╕\n",
      "│ X │ O │ - │\n",
      "├───┼───┼───┤\n",
      "│ O │ X │ X │\n",
      "├───┼───┼───┤\n",
      "│ O │ - │ - │\n",
      "╘═══╧═══╧═══╛\n",
      "-1\n",
      "\n",
      "\n",
      "--------------------\n",
      "move Agent\n",
      "Action: 8\n",
      "╒═══╤═══╤═══╕\n",
      "│ X │ O │ - │\n",
      "├───┼───┼───┤\n",
      "│ O │ X │ X │\n",
      "├───┼───┼───┤\n",
      "│ O │ - │ O │\n",
      "╘═══╧═══╧═══╛\n",
      "\n",
      "\n",
      "--------------------\n",
      "Move Human\n",
      "Action: 7\n",
      "╒═══╤═══╤═══╕\n",
      "│ X │ O │ - │\n",
      "├───┼───┼───┤\n",
      "│ O │ X │ X │\n",
      "├───┼───┼───┤\n",
      "│ O │ X │ O │\n",
      "╘═══╧═══╧═══╛\n",
      "-1\n",
      "\n",
      "\n",
      "--------------------\n",
      "move Agent\n",
      "Action: 2\n",
      "╒═══╤═══╤═══╕\n",
      "│ X │ O │ O │\n",
      "├───┼───┼───┤\n",
      "│ O │ X │ X │\n",
      "├───┼───┼───┤\n",
      "│ O │ X │ O │\n",
      "╘═══╧═══╧═══╛\n",
      "\n",
      "\n",
      "There is no Winner!\n",
      "--------------------\n",
      "--------------------\n",
      "\n",
      "\n",
      "\n"
     ]
    }
   ],
   "source": [
    "play_tictactoe(env, qtable, state_dict, num_test_games=1)"
   ]
  }
 ],
 "metadata": {
  "interpreter": {
   "hash": "6050d35557e2eda2bee3489ac5b9239cf3ea28e67ca6bb3b65a2efaf99506245"
  },
  "kernelspec": {
   "display_name": "Python 3.9.12 ('tictactoe_env')",
   "language": "python",
   "name": "python3"
  },
  "language_info": {
   "codemirror_mode": {
    "name": "ipython",
    "version": 3
   },
   "file_extension": ".py",
   "mimetype": "text/x-python",
   "name": "python",
   "nbconvert_exporter": "python",
   "pygments_lexer": "ipython3",
   "version": "3.10.12"
  }
 },
 "nbformat": 4,
 "nbformat_minor": 2
}
