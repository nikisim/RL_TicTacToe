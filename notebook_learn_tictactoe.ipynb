{
 "cells": [
  {
   "cell_type": "markdown",
   "metadata": {},
   "source": [
    "## RL agent Q-learning for TicTacToe env\n",
    "\n",
    "The [Tic-Tac-Toe](https://github.com/MauroLuzzatto/OpenAI-Gym-TicTacToe-Environment) is a simple game environment that allows to train reinforcement learning agents. These notebook contains an implemetation of Q-learning with epsilon-greedy strategy for TicTacToe env."
   ]
  },
  {
   "cell_type": "code",
   "execution_count": 140,
   "metadata": {},
   "outputs": [],
   "source": [
    "# load the python modules\n",
    "import time\n",
    "import sys\n",
    "import warnings\n",
    "\n",
    "import gym\n",
    "import numpy as np\n",
    "from tqdm import tqdm\n",
    "import gym_TicTacToe\n",
    "\n",
    "from src.qagent import QLearningAgent\n",
    "from src.play_tictactoe import play_tictactoe, play_tictactoe_with_random\n",
    "\n",
    "from src.utils import (\n",
    "    create_state_dictionary,\n",
    "    reshape_state,\n",
    "    save_qtable,\n",
    "    load_qtable\n",
    ")\n",
    "\n",
    "# ignore warnings\n",
    "if not sys.warnoptions:\n",
    "    warnings.simplefilter(\"ignore\")"
   ]
  },
  {
   "cell_type": "code",
   "execution_count": 141,
   "metadata": {},
   "outputs": [],
   "source": [
    "class Player:\n",
    "    def __init__(self, color, episodes: int):\n",
    "        self.color = color\n",
    "        self.reward_array = np.zeros(episodes)\n",
    "        self.reset_reward()\n",
    "        self.name = f\"Player {color}\"\n",
    "\n",
    "    def reset_reward(self):\n",
    "        self.reward = 0"
   ]
  },
  {
   "cell_type": "code",
   "execution_count": 142,
   "metadata": {},
   "outputs": [],
   "source": [
    "\n",
    "# initialize the tictactoe environment\n",
    "env = gym.envs.make(\"TTT-v0\", small=-1, large=10)"
   ]
  },
  {
   "cell_type": "code",
   "execution_count": 143,
   "metadata": {},
   "outputs": [
    {
     "name": "stdout",
     "output_type": "stream",
     "text": [
      "Number of legal states: 12092\n"
     ]
    }
   ],
   "source": [
    "state_dict = create_state_dictionary()\n",
    "state_size = len(state_dict.keys())\n",
    "action_size = env.action_space.n"
   ]
  },
  {
   "cell_type": "code",
   "execution_count": 144,
   "metadata": {},
   "outputs": [],
   "source": [
    "# set training parameters\n",
    "episodes = 660_000\n",
    "max_steps = 9"
   ]
  },
  {
   "cell_type": "code",
   "execution_count": 145,
   "metadata": {},
   "outputs": [],
   "source": [
    "exploration_parameters = {\n",
    "    \"max_epsilon\": 1.0,\n",
    "    \"min_epsilon\": 0.0,\n",
    "    \"decay_rate\": 0.00001,\n",
    "}"
   ]
  },
  {
   "cell_type": "code",
   "execution_count": 146,
   "metadata": {},
   "outputs": [],
   "source": [
    "qagent = QLearningAgent(exploration_parameters, state_size, action_size, learning_rate=0.1, gamma=0.99)"
   ]
  },
  {
   "cell_type": "code",
   "execution_count": 147,
   "metadata": {},
   "outputs": [],
   "source": [
    "def check_for_lose(state, color: int) -> bool:\n",
    "        \"\"\"check if after agent's move there is a lose position\n",
    "\n",
    "        Args:\n",
    "            color (int): of the player's enemy\n",
    "\n",
    "        Returns:\n",
    "            bool: indicating if this was a crucial move\n",
    "        \"\"\"\n",
    "\n",
    "        lose = False\n",
    "        #enemy color\n",
    "        enemy_matrix = state == color\n",
    "        zero_matrix = state == 0\n",
    "        bool_matrix = (enemy_matrix + zero_matrix).reshape(3,3)\n",
    "        for ii in range(3):\n",
    "            if (\n",
    "                # check columns\n",
    "                np.sum(bool_matrix[:, ii]) == 3\n",
    "                # check rows\n",
    "                or np.sum(bool_matrix[ii, :]) == 3\n",
    "                # check diagonal\n",
    "                or np.sum([bool_matrix[0, 0], bool_matrix[1, 1], bool_matrix[2, 2]])\n",
    "                == 3\n",
    "                or np.sum([bool_matrix[0, 2], bool_matrix[1, 1], bool_matrix[2, 0]])\n",
    "                == 3\n",
    "            ):\n",
    "                lose = True\n",
    "                # print(state.reshape(3,3))\n",
    "                # print(color)\n",
    "                break\n",
    "        return lose"
   ]
  },
  {
   "cell_type": "code",
   "execution_count": 148,
   "metadata": {},
   "outputs": [
    {
     "data": {
      "text/plain": [
       "True"
      ]
     },
     "execution_count": 148,
     "metadata": {},
     "output_type": "execute_result"
    }
   ],
   "source": [
    "state = np.array([1,2,0,1,2,1,0,1,2])\n",
    "check_for_lose(state, color=2)"
   ]
  },
  {
   "cell_type": "code",
   "execution_count": 149,
   "metadata": {},
   "outputs": [],
   "source": [
    "\n",
    "def play(qagent:QLearningAgent, player_color, state: int, action_space: np.array, last_turn: bool) -> tuple:\n",
    "    action = qagent.get_action(state, action_space)\n",
    "\n",
    "    # remove action from the action space\n",
    "    action_space = action_space[action_space != action]\n",
    "\n",
    "    new_state, reward, done, _ = env.step((action, player_color))\n",
    "\n",
    "    color = [1,2]\n",
    "    # if done:\n",
    "    #     print(new)\n",
    "    #     reward -= 5\n",
    "    # if len(action_space) == 1 and (done == False):\n",
    "    #     if check_for_lose(new_state, color[player_color != color]):\n",
    "    #         reward -= 5\n",
    "\n",
    "    if (last_turn == True) and (done == False):\n",
    "        reward += 12     # Reward for draw\n",
    "\n",
    "    # elif (last_turn == True) and (done == True):\n",
    "    #     reward += 10\n",
    "        # print(f\"New_state:{new_state}, Reward:{reward}, Done:{done}\")\n",
    "    #TODO: maybe should change a marker after this agent turn \n",
    "    new_state = np.append(new_state, player_color)\n",
    "    new_state = state_dict[reshape_state(new_state)] \n",
    "\n",
    "    qagent.qtable[state, action] = qagent.update_qtable(\n",
    "        state, new_state, action, reward, done\n",
    "    )\n",
    "    # new state\n",
    "    state = new_state\n",
    "    return state, action_space, done"
   ]
  },
  {
   "cell_type": "code",
   "execution_count": 150,
   "metadata": {},
   "outputs": [],
   "source": [
    "def play_random(qagent:QLearningAgent, player: Player, state: int, action_space: np.array) -> tuple:\n",
    "    action = np.random.choice(action_space)\n",
    "    action_space = action_space[action_space != action]\n",
    "    new_state, reward, done, _ = env.step((action, player.color))\n",
    "    new_state = np.append(new_state, player.color)\n",
    "    new_state = state_dict[reshape_state(new_state)]\n",
    "    state = new_state\n",
    "    return state, action_space, done"
   ]
  },
  {
   "cell_type": "code",
   "execution_count": 151,
   "metadata": {},
   "outputs": [],
   "source": [
    "visited_states = np.zeros((state_size, 1))"
   ]
  },
  {
   "cell_type": "code",
   "execution_count": 152,
   "metadata": {},
   "outputs": [
    {
     "name": "stderr",
     "output_type": "stream",
     "text": [
      "  0%|          | 517/660000 [00:00<04:12, 2610.49it/s]"
     ]
    },
    {
     "name": "stdout",
     "output_type": "stream",
     "text": [
      "WinRate: 0.36\n",
      "episode: 0,             epsilon: 1.0,             sum q-table: 40.230236245810815,             elapsed time [min]: 0.0,              done [%]: 0.0             \n"
     ]
    },
    {
     "name": "stderr",
     "output_type": "stream",
     "text": [
      "  4%|▍         | 25552/660000 [00:08<03:47, 2791.11it/s]"
     ]
    },
    {
     "name": "stdout",
     "output_type": "stream",
     "text": [
      "WinRate: 0.0\n",
      "episode: 25000,             epsilon: 0.78,             sum q-table: 181341.2208335659,             elapsed time [min]: 0.14,              done [%]: 3.787878787878788             \n"
     ]
    },
    {
     "name": "stderr",
     "output_type": "stream",
     "text": [
      "  8%|▊         | 50445/660000 [00:17<03:50, 2646.40it/s]"
     ]
    },
    {
     "name": "stdout",
     "output_type": "stream",
     "text": [
      "WinRate: 0.12\n",
      "episode: 50000,             epsilon: 0.61,             sum q-table: 213178.9779147902,             elapsed time [min]: 0.29,              done [%]: 7.575757575757576             \n"
     ]
    },
    {
     "name": "stderr",
     "output_type": "stream",
     "text": [
      " 11%|█▏        | 75525/660000 [00:26<03:46, 2582.57it/s]"
     ]
    },
    {
     "name": "stdout",
     "output_type": "stream",
     "text": [
      "WinRate: 0.16\n",
      "episode: 75000,             epsilon: 0.47,             sum q-table: 217699.84511674,             elapsed time [min]: 0.44,              done [%]: 11.363636363636363             \n"
     ]
    },
    {
     "name": "stderr",
     "output_type": "stream",
     "text": [
      " 15%|█▌        | 100394/660000 [00:36<03:42, 2515.50it/s]"
     ]
    },
    {
     "name": "stdout",
     "output_type": "stream",
     "text": [
      "WinRate: 0.36\n",
      "episode: 100000,             epsilon: 0.37,             sum q-table: 219155.50397632344,             elapsed time [min]: 0.6,              done [%]: 15.151515151515152             \n"
     ]
    },
    {
     "name": "stderr",
     "output_type": "stream",
     "text": [
      " 19%|█▉        | 125480/660000 [00:45<03:33, 2508.98it/s]"
     ]
    },
    {
     "name": "stdout",
     "output_type": "stream",
     "text": [
      "WinRate: 0.4\n",
      "episode: 125000,             epsilon: 0.29,             sum q-table: 219647.11337683446,             elapsed time [min]: 0.76,              done [%]: 18.939393939393938             \n"
     ]
    },
    {
     "name": "stderr",
     "output_type": "stream",
     "text": [
      " 23%|██▎       | 150418/660000 [00:55<03:25, 2485.39it/s]"
     ]
    },
    {
     "name": "stdout",
     "output_type": "stream",
     "text": [
      "WinRate: 0.56\n",
      "episode: 150000,             epsilon: 0.22,             sum q-table: 219815.4346443758,             elapsed time [min]: 0.92,              done [%]: 22.727272727272727             \n"
     ]
    },
    {
     "name": "stderr",
     "output_type": "stream",
     "text": [
      " 27%|██▋       | 175326/660000 [01:04<03:12, 2515.18it/s]"
     ]
    },
    {
     "name": "stdout",
     "output_type": "stream",
     "text": [
      "WinRate: 0.16\n",
      "episode: 175000,             epsilon: 0.17,             sum q-table: 219913.12111874926,             elapsed time [min]: 1.08,              done [%]: 26.515151515151516             \n"
     ]
    },
    {
     "name": "stderr",
     "output_type": "stream",
     "text": [
      " 30%|███       | 200507/660000 [01:14<03:03, 2499.97it/s]"
     ]
    },
    {
     "name": "stdout",
     "output_type": "stream",
     "text": [
      "WinRate: 0.44\n",
      "episode: 200000,             epsilon: 0.14,             sum q-table: 219953.89880188502,             elapsed time [min]: 1.24,              done [%]: 30.303030303030305             \n"
     ]
    },
    {
     "name": "stderr",
     "output_type": "stream",
     "text": [
      " 34%|███▍      | 225341/660000 [01:24<02:54, 2491.78it/s]"
     ]
    },
    {
     "name": "stdout",
     "output_type": "stream",
     "text": [
      "WinRate: 0.24\n",
      "episode: 225000,             epsilon: 0.11,             sum q-table: 219984.69295190214,             elapsed time [min]: 1.4,              done [%]: 34.090909090909086             \n"
     ]
    },
    {
     "name": "stderr",
     "output_type": "stream",
     "text": [
      " 38%|███▊      | 250388/660000 [01:34<02:45, 2472.23it/s]"
     ]
    },
    {
     "name": "stdout",
     "output_type": "stream",
     "text": [
      "WinRate: 0.44\n",
      "episode: 250000,             epsilon: 0.08,             sum q-table: 219995.5616273599,             elapsed time [min]: 1.57,              done [%]: 37.878787878787875             \n"
     ]
    },
    {
     "name": "stderr",
     "output_type": "stream",
     "text": [
      " 42%|████▏     | 275324/660000 [01:43<02:32, 2516.11it/s]"
     ]
    },
    {
     "name": "stdout",
     "output_type": "stream",
     "text": [
      "WinRate: 0.44\n",
      "episode: 275000,             epsilon: 0.06,             sum q-table: 219998.46136382496,             elapsed time [min]: 1.73,              done [%]: 41.66666666666667             \n"
     ]
    },
    {
     "name": "stderr",
     "output_type": "stream",
     "text": [
      " 46%|████▌     | 300339/660000 [01:53<02:21, 2533.60it/s]"
     ]
    },
    {
     "name": "stdout",
     "output_type": "stream",
     "text": [
      "WinRate: 0.48\n",
      "episode: 300000,             epsilon: 0.05,             sum q-table: 220000.00650442115,             elapsed time [min]: 1.89,              done [%]: 45.45454545454545             \n"
     ]
    },
    {
     "name": "stderr",
     "output_type": "stream",
     "text": [
      " 49%|████▉     | 325387/660000 [02:03<02:13, 2510.54it/s]"
     ]
    },
    {
     "name": "stdout",
     "output_type": "stream",
     "text": [
      "WinRate: 0.36\n",
      "episode: 325000,             epsilon: 0.04,             sum q-table: 220000.9487200193,             elapsed time [min]: 2.05,              done [%]: 49.24242424242424             \n"
     ]
    },
    {
     "name": "stderr",
     "output_type": "stream",
     "text": [
      " 53%|█████▎    | 350347/660000 [02:12<02:01, 2545.08it/s]"
     ]
    },
    {
     "name": "stdout",
     "output_type": "stream",
     "text": [
      "WinRate: 0.2\n",
      "episode: 350000,             epsilon: 0.03,             sum q-table: 220002.97142386838,             elapsed time [min]: 2.21,              done [%]: 53.03030303030303             \n"
     ]
    },
    {
     "name": "stderr",
     "output_type": "stream",
     "text": [
      " 57%|█████▋    | 375346/660000 [02:21<01:51, 2556.15it/s]"
     ]
    },
    {
     "name": "stdout",
     "output_type": "stream",
     "text": [
      "WinRate: 0.44\n",
      "episode: 375000,             epsilon: 0.02,             sum q-table: 220003.14834267844,             elapsed time [min]: 2.36,              done [%]: 56.81818181818182             \n"
     ]
    },
    {
     "name": "stderr",
     "output_type": "stream",
     "text": [
      " 61%|██████    | 400438/660000 [02:31<01:42, 2529.06it/s]"
     ]
    },
    {
     "name": "stdout",
     "output_type": "stream",
     "text": [
      "WinRate: 0.28\n",
      "episode: 400000,             epsilon: 0.02,             sum q-table: 220003.2473474869,             elapsed time [min]: 2.52,              done [%]: 60.60606060606061             \n"
     ]
    },
    {
     "name": "stderr",
     "output_type": "stream",
     "text": [
      " 64%|██████▍   | 425442/660000 [02:41<01:32, 2533.26it/s]"
     ]
    },
    {
     "name": "stdout",
     "output_type": "stream",
     "text": [
      "WinRate: 0.36\n",
      "episode: 425000,             epsilon: 0.01,             sum q-table: 220003.26891585978,             elapsed time [min]: 2.68,              done [%]: 64.39393939393939             \n"
     ]
    },
    {
     "name": "stderr",
     "output_type": "stream",
     "text": [
      " 68%|██████▊   | 450407/660000 [02:50<01:22, 2541.66it/s]"
     ]
    },
    {
     "name": "stdout",
     "output_type": "stream",
     "text": [
      "WinRate: 0.2\n",
      "episode: 450000,             epsilon: 0.01,             sum q-table: 220003.34787746833,             elapsed time [min]: 2.84,              done [%]: 68.18181818181817             \n"
     ]
    },
    {
     "name": "stderr",
     "output_type": "stream",
     "text": [
      " 72%|███████▏  | 475657/660000 [03:00<01:12, 2536.99it/s]"
     ]
    },
    {
     "name": "stdout",
     "output_type": "stream",
     "text": [
      "WinRate: 0.32\n",
      "episode: 475000,             epsilon: 0.01,             sum q-table: 220003.36886956287,             elapsed time [min]: 3.0,              done [%]: 71.96969696969697             \n"
     ]
    },
    {
     "name": "stderr",
     "output_type": "stream",
     "text": [
      " 76%|███████▌  | 500328/660000 [03:09<01:03, 2503.00it/s]"
     ]
    },
    {
     "name": "stdout",
     "output_type": "stream",
     "text": [
      "WinRate: 0.08\n",
      "episode: 500000,             epsilon: 0.01,             sum q-table: 220003.3690289154,             elapsed time [min]: 3.16,              done [%]: 75.75757575757575             \n"
     ]
    },
    {
     "name": "stderr",
     "output_type": "stream",
     "text": [
      " 80%|███████▉  | 525260/660000 [03:19<00:53, 2513.05it/s]"
     ]
    },
    {
     "name": "stdout",
     "output_type": "stream",
     "text": [
      "WinRate: 0.52\n",
      "episode: 525000,             epsilon: 0.01,             sum q-table: 220003.38113007304,             elapsed time [min]: 3.32,              done [%]: 79.54545454545455             \n"
     ]
    },
    {
     "name": "stderr",
     "output_type": "stream",
     "text": [
      " 83%|████████▎ | 550492/660000 [03:29<00:43, 2501.09it/s]"
     ]
    },
    {
     "name": "stdout",
     "output_type": "stream",
     "text": [
      "WinRate: 0.44\n",
      "episode: 550000,             epsilon: 0.0,             sum q-table: 220003.38114182587,             elapsed time [min]: 3.48,              done [%]: 83.33333333333334             \n"
     ]
    },
    {
     "name": "stderr",
     "output_type": "stream",
     "text": [
      " 87%|████████▋ | 575329/660000 [03:38<00:33, 2508.46it/s]"
     ]
    },
    {
     "name": "stdout",
     "output_type": "stream",
     "text": [
      "WinRate: 0.44\n",
      "episode: 575000,             epsilon: 0.0,             sum q-table: 220003.38114182645,             elapsed time [min]: 3.64,              done [%]: 87.12121212121212             \n"
     ]
    },
    {
     "name": "stderr",
     "output_type": "stream",
     "text": [
      " 91%|█████████ | 600266/660000 [03:48<00:23, 2494.59it/s]"
     ]
    },
    {
     "name": "stdout",
     "output_type": "stream",
     "text": [
      "WinRate: 0.36\n",
      "episode: 600000,             epsilon: 0.0,             sum q-table: 220003.38114182686,             elapsed time [min]: 3.8,              done [%]: 90.9090909090909             \n"
     ]
    },
    {
     "name": "stderr",
     "output_type": "stream",
     "text": [
      " 95%|█████████▍| 625267/660000 [03:58<00:13, 2496.60it/s]"
     ]
    },
    {
     "name": "stdout",
     "output_type": "stream",
     "text": [
      "WinRate: 0.12\n",
      "episode: 625000,             epsilon: 0.0,             sum q-table: 220003.38114182686,             elapsed time [min]: 3.97,              done [%]: 94.6969696969697             \n"
     ]
    },
    {
     "name": "stderr",
     "output_type": "stream",
     "text": [
      " 99%|█████████▊| 650272/660000 [04:07<00:03, 2518.70it/s]"
     ]
    },
    {
     "name": "stdout",
     "output_type": "stream",
     "text": [
      "WinRate: 0.64\n",
      "episode: 650000,             epsilon: 0.0,             sum q-table: 220003.38114182686,             elapsed time [min]: 4.13,              done [%]: 98.48484848484848             \n"
     ]
    },
    {
     "name": "stderr",
     "output_type": "stream",
     "text": [
      "100%|██████████| 660000/660000 [04:11<00:00, 2624.99it/s]\n"
     ]
    }
   ],
   "source": [
    "from IPython.display import clear_output\n",
    "import matplotlib.pyplot as plt\n",
    "%matplotlib inline\n",
    "import random\n",
    "\n",
    "start_time = time.time()\n",
    "\n",
    "player_1 = Player(color=1, episodes=episodes)\n",
    "player_2 = Player(color=2, episodes=episodes)\n",
    "\n",
    "track_progress = np.zeros(episodes)\n",
    "\n",
    "win_history = []\n",
    "\n",
    "rewards = []\n",
    "lear_rate = 0.8\n",
    "# lr = 0.4, gamma = 0.9, winrate = 0.64\n",
    "# Learning rate: 0.5, Win rate: 0.72, Gamma: 0.9\n",
    "# Learning rate: 0.6, Win rate: 0.5, Gamma: 0.9\n",
    "# Learning rate: 0.7, Win rate: 0.66, Gamma: 0.9\n",
    "# Learning rate: 0.65, Win rate: 0.76, Gamma: 0.8\n",
    "\n",
    "# best \n",
    "# Learning rate: 0.8, Win rate: 0.8, Gamma: 0.9\n",
    "gamma = 0.9\n",
    "\n",
    "\n",
    "qagent = QLearningAgent(exploration_parameters, state_size, action_size, learning_rate=lear_rate, gamma=gamma)\n",
    "# qagent_old = qagent\n",
    "for episode in tqdm(range(episodes)):\n",
    "    last_turn = False\n",
    "    action_space = np.arange(9)\n",
    "    player_1.reset_reward()\n",
    "    player_2.reset_reward()\n",
    "\n",
    "    # randomly change the order players\n",
    "    start = np.random.choice([1,2])\n",
    "\n",
    "    state, _ = env.reset()\n",
    "    state = np.append(state, start)\n",
    "    state = state_dict[reshape_state(state)]\n",
    "    # if episode % 10_000 == 0:\n",
    "    #     save_qtable(qagent.qtable, 'tables', \"q_table_old\")\n",
    "\n",
    "    for _step in range(start, max_steps + start):\n",
    "        if _step == max_steps + start - 1:\n",
    "            last_turn = True\n",
    "        # change a turn\n",
    "        if _step % 2 == 0:\n",
    "            #state, action_space, done = play_random(qagent, player_1, state, action_space)\n",
    "            #qagent_old.qtable = load_qtable('tables', \"q_table_old\")\n",
    "            state, action_space, done = play(qagent, player_1.color, state, action_space, last_turn)\n",
    "        else:\n",
    "            state, action_space, done = play(qagent, player_2.color, state, action_space, last_turn)\n",
    "        visited_states[state] += 1\n",
    "        if done == True:\n",
    "            break\n",
    "\n",
    "    # reduce epsilon for exporation-exploitation tradeoff\n",
    "    qagent.update_epsilon(episode)\n",
    "\n",
    "    #cur_win_rate, reward = play_tictactoe_with_random(env, qagent.qtable, state_dict, num_test_games=100)\n",
    "\n",
    "    #check how good is agent\n",
    "    if episode % 25_000 == 0:\n",
    "        num_games = 50\n",
    "        cur_win_rate, reward = play_tictactoe_with_random(env, qagent.qtable, state_dict, num_test_games=num_games)\n",
    "        win_history.append(sum(cur_win_rate)/num_games)\n",
    "        print(\"WinRate:\", sum(cur_win_rate)/num_games)\n",
    "        # rewards.append(reward)\n",
    "        # clear_output(True)\n",
    "        # # plt.title('eps = {:e}, mean reward = {:.1f}'.format(agent.epsilon, np.mean(rewards[-10:])))\n",
    "        # plt.plot(rewards)\n",
    "        # plt.show()\n",
    "    if episode % 25_000 == 0:\n",
    "\n",
    "        sum_q_table = np.sum(qagent.qtable)\n",
    "        time_passed = round((time.time() - start_time) / 60.0, 2)\n",
    "\n",
    "        print(\n",
    "            f\"episode: {episode}, \\\n",
    "            epsilon: {round(qagent.epsilon, 2)}, \\\n",
    "            sum q-table: {sum_q_table}, \\\n",
    "            elapsed time [min]: {time_passed},  \\\n",
    "            done [%]: {episode / episodes * 100} \\\n",
    "            \"\n",
    "        )\n"
   ]
  },
  {
   "cell_type": "code",
   "execution_count": 153,
   "metadata": {},
   "outputs": [
    {
     "name": "stdout",
     "output_type": "stream",
     "text": [
      "Percent: 90.58881905391995\n"
     ]
    }
   ],
   "source": [
    "visited_states.shape[0]\n",
    "print(\"Percent:\",100*np.sum(visited_states > 0)/visited_states.shape[0])"
   ]
  },
  {
   "cell_type": "code",
   "execution_count": 159,
   "metadata": {},
   "outputs": [
    {
     "name": "stdout",
     "output_type": "stream",
     "text": [
      "WinRate: 0.378\n"
     ]
    }
   ],
   "source": [
    "num_games = 1000\n",
    "cur_win_rate, _ = play_tictactoe_with_random(env, qagent.qtable, state_dict, num_test_games=num_games)\n",
    "win_history.append(sum(cur_win_rate)/num_games)\n",
    "print(\"WinRate:\", sum(cur_win_rate)/num_games)"
   ]
  },
  {
   "cell_type": "code",
   "execution_count": 20,
   "metadata": {},
   "outputs": [
    {
     "name": "stdout",
     "output_type": "stream",
     "text": [
      "q_table_best.npy saved!\n"
     ]
    }
   ],
   "source": [
    "qtable = qagent.qtable\n",
    "save_qtable(qtable, 'tables', \"q_table_best\")"
   ]
  },
  {
   "cell_type": "code",
   "execution_count": 6,
   "metadata": {},
   "outputs": [],
   "source": [
    "qtable = load_qtable('tables', \"q_table_best\")"
   ]
  },
  {
   "cell_type": "code",
   "execution_count": 220,
   "metadata": {},
   "outputs": [
    {
     "name": "stdout",
     "output_type": "stream",
     "text": [
      "8603\n",
      "[[2 0 0]\n",
      " [2 1 1]\n",
      " [1 0 0]]\n",
      "Turn was: 1\n",
      "[[0.  7.1 5.4]\n",
      " [0.  0.  0. ]\n",
      " [0.  7.1 7.1]]\n"
     ]
    }
   ],
   "source": [
    "#check how correct is q-table\n",
    "\n",
    "state = np.random.choice(np.arange(env.observation_space.n))\n",
    "# state_dict[state]\n",
    "print(state)\n",
    "\n",
    "key = list(filter(lambda x: state_dict[x] == state, state_dict))[0]\n",
    "print(np.array(key[:-1]).reshape(3,3))\n",
    "print(\"Turn was:\", key[-1])\n",
    "print(np.round(qagent.qtable[state].reshape(3,3),1))\n"
   ]
  },
  {
   "cell_type": "code",
   "execution_count": 10,
   "metadata": {},
   "outputs": [
    {
     "name": "stdout",
     "output_type": "stream",
     "text": [
      "Agent beginns\n",
      "--------------------\n",
      "╒═══╤═══╤═══╕\n",
      "│ - │ - │ - │\n",
      "├───┼───┼───┤\n",
      "│ - │ - │ - │\n",
      "├───┼───┼───┤\n",
      "│ - │ - │ - │\n",
      "╘═══╧═══╧═══╛\n",
      "--------------------\n",
      "Move Human\n",
      "Action: 4\n",
      "╒═══╤═══╤═══╕\n",
      "│ - │ - │ - │\n",
      "├───┼───┼───┤\n",
      "│ - │ X │ - │\n",
      "├───┼───┼───┤\n",
      "│ - │ - │ - │\n",
      "╘═══╧═══╧═══╛\n",
      "-1\n",
      "\n",
      "\n",
      "--------------------\n",
      "move Agent\n",
      "Action: 0\n",
      "╒═══╤═══╤═══╕\n",
      "│ O │ - │ - │\n",
      "├───┼───┼───┤\n",
      "│ - │ X │ - │\n",
      "├───┼───┼───┤\n",
      "│ - │ - │ - │\n",
      "╘═══╧═══╧═══╛\n",
      "\n",
      "\n",
      "--------------------\n",
      "Move Human\n",
      "Action: 1\n",
      "╒═══╤═══╤═══╕\n",
      "│ O │ X │ - │\n",
      "├───┼───┼───┤\n",
      "│ - │ X │ - │\n",
      "├───┼───┼───┤\n",
      "│ - │ - │ - │\n",
      "╘═══╧═══╧═══╛\n",
      "-1\n",
      "\n",
      "\n",
      "--------------------\n",
      "move Agent\n",
      "Action: 6\n",
      "╒═══╤═══╤═══╕\n",
      "│ O │ X │ - │\n",
      "├───┼───┼───┤\n",
      "│ - │ X │ - │\n",
      "├───┼───┼───┤\n",
      "│ O │ - │ - │\n",
      "╘═══╧═══╧═══╛\n",
      "\n",
      "\n",
      "--------------------\n",
      "Move Human\n",
      "Action: 7\n",
      "╒═══╤═══╤═══╕\n",
      "│ O │ X │ - │\n",
      "├───┼───┼───┤\n",
      "│ - │ X │ - │\n",
      "├───┼───┼───┤\n",
      "│ O │ X │ - │\n",
      "╘═══╧═══╧═══╛\n",
      "-1\n",
      "\n",
      "\n",
      "--------------------\n",
      "move Agent\n",
      "Action: 3\n",
      "╒═══╤═══╤═══╕\n",
      "│ O │ X │ - │\n",
      "├───┼───┼───┤\n",
      "│ O │ X │ - │\n",
      "├───┼───┼───┤\n",
      "│ O │ X │ - │\n",
      "╘═══╧═══╧═══╛\n",
      "********************\n",
      "Agent won!\n",
      "********************\n",
      "╒═══╤═══╤═══╕\n",
      "│ O │ X │ - │\n",
      "├───┼───┼───┤\n",
      "│ O │ X │ - │\n",
      "├───┼───┼───┤\n",
      "│ O │ X │ - │\n",
      "╘═══╧═══╧═══╛\n",
      "\n",
      "\n",
      "\n"
     ]
    }
   ],
   "source": [
    "play_tictactoe(env, qtable, state_dict, num_test_games=1)"
   ]
  }
 ],
 "metadata": {
  "interpreter": {
   "hash": "6050d35557e2eda2bee3489ac5b9239cf3ea28e67ca6bb3b65a2efaf99506245"
  },
  "kernelspec": {
   "display_name": "Python 3.9.12 ('tictactoe_env')",
   "language": "python",
   "name": "python3"
  },
  "language_info": {
   "codemirror_mode": {
    "name": "ipython",
    "version": 3
   },
   "file_extension": ".py",
   "mimetype": "text/x-python",
   "name": "python",
   "nbconvert_exporter": "python",
   "pygments_lexer": "ipython3",
   "version": "3.10.12"
  }
 },
 "nbformat": 4,
 "nbformat_minor": 2
}
